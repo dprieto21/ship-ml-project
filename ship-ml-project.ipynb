{
 "cells": [
  {
   "cell_type": "markdown",
   "id": "d66dfe7c-5049-454d-b82b-a14aeef9d2e4",
   "metadata": {
    "slideshow": {
     "slide_type": "slide"
    },
    "tags": []
   },
   "source": [
    "# Machine Learning Ship Project"
   ]
  },
  {
   "cell_type": "markdown",
   "id": "f7ba0891-2d32-4368-b0c9-25625915fe84",
   "metadata": {
    "slideshow": {
     "slide_type": "slide"
    },
    "tags": []
   },
   "source": [
    "# Task 1"
   ]
  },
  {
   "cell_type": "markdown",
   "id": "0911b8e3-9a02-4180-9b47-6d795dfb7056",
   "metadata": {
    "slideshow": {
     "slide_type": "subslide"
    },
    "tags": []
   },
   "source": [
    "## Perform exploratory data analysis (EDA)."
   ]
  },
  {
   "cell_type": "code",
   "execution_count": 1,
   "id": "3b2ae180-e798-4e37-b4e9-933d5891ecd4",
   "metadata": {
    "slideshow": {
     "slide_type": "slide"
    },
    "tags": []
   },
   "outputs": [],
   "source": [
    "# Import the necessary packages\n",
    "import pandas as pd\n",
    "import numpy as np\n",
    "from numpy.random import seed\n",
    "from numpy import mean\n",
    "from numpy import std\n",
    "import datetime\n",
    "import matplotlib.pyplot as plt\n",
    "import seaborn as sns\n",
    "import sklearn\n",
    "from sklearn.impute import SimpleImputer\n",
    "from sklearn.model_selection import train_test_split\n",
    "from sklearn.linear_model import LinearRegression\n",
    "from sklearn.preprocessing import PolynomialFeatures\n",
    "from sklearn.metrics import mean_squared_error\n",
    "from sklearn.model_selection import cross_val_score\n",
    "\n",
    "# Set seed for reproducibility\n",
    "seed (0)"
   ]
  },
  {
   "cell_type": "code",
   "execution_count": 2,
   "id": "08bda323-7daa-4f53-bd05-e9e8feed74a8",
   "metadata": {
    "slideshow": {
     "slide_type": "slide"
    },
    "tags": []
   },
   "outputs": [
    {
     "data": {
      "text/html": [
       "<div>\n",
       "<style scoped>\n",
       "    .dataframe tbody tr th:only-of-type {\n",
       "        vertical-align: middle;\n",
       "    }\n",
       "\n",
       "    .dataframe tbody tr th {\n",
       "        vertical-align: top;\n",
       "    }\n",
       "\n",
       "    .dataframe thead th {\n",
       "        text-align: right;\n",
       "    }\n",
       "</style>\n",
       "<table border=\"1\" class=\"dataframe\">\n",
       "  <thead>\n",
       "    <tr style=\"text-align: right;\">\n",
       "      <th></th>\n",
       "      <th>ts</th>\n",
       "      <th>power_hvac</th>\n",
       "      <th>outside_air_humidity</th>\n",
       "      <th>outside_air_temperature</th>\n",
       "      <th>sea_temperature</th>\n",
       "      <th>speed</th>\n",
       "      <th>power_propulsion</th>\n",
       "    </tr>\n",
       "  </thead>\n",
       "  <tbody>\n",
       "    <tr>\n",
       "      <th>0</th>\n",
       "      <td>2019-01-01T00:00:00</td>\n",
       "      <td>2.01977</td>\n",
       "      <td>78.53003</td>\n",
       "      <td>25.76958</td>\n",
       "      <td>26.67483</td>\n",
       "      <td>14.55234</td>\n",
       "      <td>12.27232</td>\n",
       "    </tr>\n",
       "    <tr>\n",
       "      <th>1</th>\n",
       "      <td>2019-01-01T01:00:00</td>\n",
       "      <td>2.05053</td>\n",
       "      <td>80.96663</td>\n",
       "      <td>25.71958</td>\n",
       "      <td>27.11862</td>\n",
       "      <td>13.99801</td>\n",
       "      <td>12.25874</td>\n",
       "    </tr>\n",
       "    <tr>\n",
       "      <th>2</th>\n",
       "      <td>2019-01-01T02:00:00</td>\n",
       "      <td>2.05370</td>\n",
       "      <td>84.51196</td>\n",
       "      <td>25.68384</td>\n",
       "      <td>27.05570</td>\n",
       "      <td>13.61092</td>\n",
       "      <td>11.45752</td>\n",
       "    </tr>\n",
       "    <tr>\n",
       "      <th>3</th>\n",
       "      <td>2019-01-01T03:00:00</td>\n",
       "      <td>2.04442</td>\n",
       "      <td>85.65088</td>\n",
       "      <td>25.85318</td>\n",
       "      <td>27.18492</td>\n",
       "      <td>9.64000</td>\n",
       "      <td>5.54543</td>\n",
       "    </tr>\n",
       "    <tr>\n",
       "      <th>4</th>\n",
       "      <td>2019-01-01T04:00:00</td>\n",
       "      <td>2.01912</td>\n",
       "      <td>83.74000</td>\n",
       "      <td>26.04058</td>\n",
       "      <td>27.23300</td>\n",
       "      <td>9.23427</td>\n",
       "      <td>6.07317</td>\n",
       "    </tr>\n",
       "  </tbody>\n",
       "</table>\n",
       "</div>"
      ],
      "text/plain": [
       "                    ts  power_hvac  outside_air_humidity  \\\n",
       "0  2019-01-01T00:00:00     2.01977              78.53003   \n",
       "1  2019-01-01T01:00:00     2.05053              80.96663   \n",
       "2  2019-01-01T02:00:00     2.05370              84.51196   \n",
       "3  2019-01-01T03:00:00     2.04442              85.65088   \n",
       "4  2019-01-01T04:00:00     2.01912              83.74000   \n",
       "\n",
       "   outside_air_temperature  sea_temperature     speed  power_propulsion  \n",
       "0                 25.76958         26.67483  14.55234          12.27232  \n",
       "1                 25.71958         27.11862  13.99801          12.25874  \n",
       "2                 25.68384         27.05570  13.61092          11.45752  \n",
       "3                 25.85318         27.18492   9.64000           5.54543  \n",
       "4                 26.04058         27.23300   9.23427           6.07317  "
      ]
     },
     "execution_count": 2,
     "metadata": {},
     "output_type": "execute_result"
    }
   ],
   "source": [
    "# Take a quick look at a few rows from the data\n",
    "data = pd.read_excel(\"C:\\\\Users\\\\Danny & Amanda\\\\Downloads\\\\data.xlsx\")\n",
    "data.head()"
   ]
  },
  {
   "cell_type": "code",
   "execution_count": 3,
   "id": "0dcd8c6c-ac9b-4cc6-8eb2-d3034153e441",
   "metadata": {
    "slideshow": {
     "slide_type": "skip"
    },
    "tags": []
   },
   "outputs": [
    {
     "data": {
      "text/plain": [
       "(8760, 7)"
      ]
     },
     "execution_count": 3,
     "metadata": {},
     "output_type": "execute_result"
    }
   ],
   "source": [
    "# Check how many rows and columns there are in the dataset\n",
    "data.shape"
   ]
  },
  {
   "cell_type": "code",
   "execution_count": 4,
   "id": "edca6285-08d3-4318-b567-2268298214a1",
   "metadata": {
    "slideshow": {
     "slide_type": "slide"
    },
    "tags": []
   },
   "outputs": [
    {
     "name": "stdout",
     "output_type": "stream",
     "text": [
      "<class 'pandas.core.frame.DataFrame'>\n",
      "RangeIndex: 8760 entries, 0 to 8759\n",
      "Data columns (total 7 columns):\n",
      " #   Column                   Non-Null Count  Dtype  \n",
      "---  ------                   --------------  -----  \n",
      " 0   ts                       8760 non-null   object \n",
      " 1   power_hvac               8734 non-null   float64\n",
      " 2   outside_air_humidity     1717 non-null   float64\n",
      " 3   outside_air_temperature  1717 non-null   float64\n",
      " 4   sea_temperature          8734 non-null   float64\n",
      " 5   speed                    8710 non-null   float64\n",
      " 6   power_propulsion         8734 non-null   float64\n",
      "dtypes: float64(6), object(1)\n",
      "memory usage: 479.2+ KB\n"
     ]
    }
   ],
   "source": [
    "# See what data types there are and how many rows have values\n",
    "data.info()"
   ]
  },
  {
   "cell_type": "code",
   "execution_count": 5,
   "id": "b4d604df-f94b-408e-895d-da28d5f1b5e6",
   "metadata": {
    "slideshow": {
     "slide_type": "slide"
    },
    "tags": []
   },
   "outputs": [
    {
     "data": {
      "text/html": [
       "<div>\n",
       "<style scoped>\n",
       "    .dataframe tbody tr th:only-of-type {\n",
       "        vertical-align: middle;\n",
       "    }\n",
       "\n",
       "    .dataframe tbody tr th {\n",
       "        vertical-align: top;\n",
       "    }\n",
       "\n",
       "    .dataframe thead th {\n",
       "        text-align: right;\n",
       "    }\n",
       "</style>\n",
       "<table border=\"1\" class=\"dataframe\">\n",
       "  <thead>\n",
       "    <tr style=\"text-align: right;\">\n",
       "      <th></th>\n",
       "      <th>power_hvac</th>\n",
       "      <th>outside_air_humidity</th>\n",
       "      <th>outside_air_temperature</th>\n",
       "      <th>sea_temperature</th>\n",
       "      <th>speed</th>\n",
       "      <th>power_propulsion</th>\n",
       "    </tr>\n",
       "  </thead>\n",
       "  <tbody>\n",
       "    <tr>\n",
       "      <th>count</th>\n",
       "      <td>8734.000000</td>\n",
       "      <td>1717.000000</td>\n",
       "      <td>1717.000000</td>\n",
       "      <td>8734.000000</td>\n",
       "      <td>8710.000000</td>\n",
       "      <td>8734.000000</td>\n",
       "    </tr>\n",
       "    <tr>\n",
       "      <th>mean</th>\n",
       "      <td>1.622184</td>\n",
       "      <td>73.681491</td>\n",
       "      <td>21.385345</td>\n",
       "      <td>22.619775</td>\n",
       "      <td>12.502260</td>\n",
       "      <td>16.691797</td>\n",
       "    </tr>\n",
       "    <tr>\n",
       "      <th>std</th>\n",
       "      <td>0.739981</td>\n",
       "      <td>12.477851</td>\n",
       "      <td>6.853577</td>\n",
       "      <td>6.664413</td>\n",
       "      <td>8.359804</td>\n",
       "      <td>14.299209</td>\n",
       "    </tr>\n",
       "    <tr>\n",
       "      <th>min</th>\n",
       "      <td>0.411520</td>\n",
       "      <td>32.970960</td>\n",
       "      <td>-0.628540</td>\n",
       "      <td>2.853250</td>\n",
       "      <td>0.000420</td>\n",
       "      <td>0.002000</td>\n",
       "    </tr>\n",
       "    <tr>\n",
       "      <th>25%</th>\n",
       "      <td>0.927150</td>\n",
       "      <td>66.169080</td>\n",
       "      <td>17.582430</td>\n",
       "      <td>18.865820</td>\n",
       "      <td>0.209778</td>\n",
       "      <td>0.562560</td>\n",
       "    </tr>\n",
       "    <tr>\n",
       "      <th>50%</th>\n",
       "      <td>1.624065</td>\n",
       "      <td>75.067130</td>\n",
       "      <td>24.414430</td>\n",
       "      <td>25.198725</td>\n",
       "      <td>16.175375</td>\n",
       "      <td>16.734850</td>\n",
       "    </tr>\n",
       "    <tr>\n",
       "      <th>75%</th>\n",
       "      <td>2.180098</td>\n",
       "      <td>82.462250</td>\n",
       "      <td>26.288710</td>\n",
       "      <td>27.471657</td>\n",
       "      <td>19.693067</td>\n",
       "      <td>29.169805</td>\n",
       "    </tr>\n",
       "    <tr>\n",
       "      <th>max</th>\n",
       "      <td>3.442790</td>\n",
       "      <td>100.000000</td>\n",
       "      <td>31.082410</td>\n",
       "      <td>31.043920</td>\n",
       "      <td>26.177370</td>\n",
       "      <td>43.873500</td>\n",
       "    </tr>\n",
       "  </tbody>\n",
       "</table>\n",
       "</div>"
      ],
      "text/plain": [
       "        power_hvac  outside_air_humidity  outside_air_temperature  \\\n",
       "count  8734.000000           1717.000000              1717.000000   \n",
       "mean      1.622184             73.681491                21.385345   \n",
       "std       0.739981             12.477851                 6.853577   \n",
       "min       0.411520             32.970960                -0.628540   \n",
       "25%       0.927150             66.169080                17.582430   \n",
       "50%       1.624065             75.067130                24.414430   \n",
       "75%       2.180098             82.462250                26.288710   \n",
       "max       3.442790            100.000000                31.082410   \n",
       "\n",
       "       sea_temperature        speed  power_propulsion  \n",
       "count      8734.000000  8710.000000       8734.000000  \n",
       "mean         22.619775    12.502260         16.691797  \n",
       "std           6.664413     8.359804         14.299209  \n",
       "min           2.853250     0.000420          0.002000  \n",
       "25%          18.865820     0.209778          0.562560  \n",
       "50%          25.198725    16.175375         16.734850  \n",
       "75%          27.471657    19.693067         29.169805  \n",
       "max          31.043920    26.177370         43.873500  "
      ]
     },
     "execution_count": 5,
     "metadata": {},
     "output_type": "execute_result"
    }
   ],
   "source": [
    "# Statistical summary of the dataset\n",
    "data.describe()"
   ]
  },
  {
   "cell_type": "code",
   "execution_count": 6,
   "id": "325e7f94-e14f-40e8-907a-9a9ea4f767a5",
   "metadata": {
    "slideshow": {
     "slide_type": "slide"
    },
    "tags": []
   },
   "outputs": [
    {
     "data": {
      "text/plain": [
       "ts                            0\n",
       "power_hvac                   26\n",
       "outside_air_humidity       7043\n",
       "outside_air_temperature    7043\n",
       "sea_temperature              26\n",
       "speed                        50\n",
       "power_propulsion             26\n",
       "dtype: int64"
      ]
     },
     "execution_count": 6,
     "metadata": {},
     "output_type": "execute_result"
    }
   ],
   "source": [
    "# Caluclate how many missing values are in each column\n",
    "missing_values_count = data.isnull().sum()\n",
    "missing_values_count"
   ]
  },
  {
   "cell_type": "code",
   "execution_count": 7,
   "id": "a74bcd11-dfe7-45f0-9e0d-0e5abfe2ff7c",
   "metadata": {
    "slideshow": {
     "slide_type": "slide"
    },
    "tags": []
   },
   "outputs": [
    {
     "data": {
      "text/plain": [
       "23.180039138943247"
      ]
     },
     "execution_count": 7,
     "metadata": {},
     "output_type": "execute_result"
    }
   ],
   "source": [
    "total_cells = np.product(data.shape)\n",
    "total_missing = missing_values_count.sum()\n",
    "\n",
    "# percent of data that is missing\n",
    "percent_missing = (total_missing/total_cells)*100\n",
    "percent_missing"
   ]
  },
  {
   "cell_type": "markdown",
   "id": "49286d4e-b0c7-485a-84c4-3939d7270d98",
   "metadata": {
    "slideshow": {
     "slide_type": "notes"
    },
    "tags": []
   },
   "source": [
    "Instead of attempting to correct all the missing values at one time, I decide to look at the subsets of data relevant to Task 2 and Task 3 and determine the appropriate way to deal with missing values."
   ]
  },
  {
   "cell_type": "markdown",
   "id": "d30b646c-9ca4-43a0-a0e2-21cf5fad9fbe",
   "metadata": {
    "slideshow": {
     "slide_type": "slide"
    },
    "tags": []
   },
   "source": [
    "# Task 2"
   ]
  },
  {
   "cell_type": "markdown",
   "id": "5a32d7a9-b567-4755-953f-2561cdf2bf13",
   "metadata": {
    "slideshow": {
     "slide_type": "subslide"
    },
    "tags": []
   },
   "source": [
    "## Perform regression analysis of power_propulsion. Use speed (as the feature) with power_propulsion as the response variable (target variable)."
   ]
  },
  {
   "cell_type": "markdown",
   "id": "c09976a1-ff83-42b4-9679-f89b87ba904c",
   "metadata": {
    "slideshow": {
     "slide_type": "subslide"
    },
    "tags": []
   },
   "source": [
    "### Instructions:\n",
    "#### Only consider the data when speed >= 7 knots. Remove outliers. Use polynomial regression and optimize polynomial degrees via K-Fold Cross Validation to avoid overfitting. Report RSME on test data set (80-20 train/test split). Based on your model, what would the propulsion power be at 18 knots?"
   ]
  },
  {
   "cell_type": "code",
   "execution_count": 8,
   "id": "0f84a2bc-2736-42b3-bcc7-be6ea1917518",
   "metadata": {
    "slideshow": {
     "slide_type": "slide"
    },
    "tags": []
   },
   "outputs": [
    {
     "data": {
      "text/html": [
       "<div>\n",
       "<style scoped>\n",
       "    .dataframe tbody tr th:only-of-type {\n",
       "        vertical-align: middle;\n",
       "    }\n",
       "\n",
       "    .dataframe tbody tr th {\n",
       "        vertical-align: top;\n",
       "    }\n",
       "\n",
       "    .dataframe thead th {\n",
       "        text-align: right;\n",
       "    }\n",
       "</style>\n",
       "<table border=\"1\" class=\"dataframe\">\n",
       "  <thead>\n",
       "    <tr style=\"text-align: right;\">\n",
       "      <th></th>\n",
       "      <th>speed</th>\n",
       "      <th>power_propulsion</th>\n",
       "    </tr>\n",
       "  </thead>\n",
       "  <tbody>\n",
       "    <tr>\n",
       "      <th>0</th>\n",
       "      <td>14.55234</td>\n",
       "      <td>12.27232</td>\n",
       "    </tr>\n",
       "    <tr>\n",
       "      <th>1</th>\n",
       "      <td>13.99801</td>\n",
       "      <td>12.25874</td>\n",
       "    </tr>\n",
       "    <tr>\n",
       "      <th>2</th>\n",
       "      <td>13.61092</td>\n",
       "      <td>11.45752</td>\n",
       "    </tr>\n",
       "    <tr>\n",
       "      <th>3</th>\n",
       "      <td>9.64000</td>\n",
       "      <td>5.54543</td>\n",
       "    </tr>\n",
       "    <tr>\n",
       "      <th>4</th>\n",
       "      <td>9.23427</td>\n",
       "      <td>6.07317</td>\n",
       "    </tr>\n",
       "    <tr>\n",
       "      <th>...</th>\n",
       "      <td>...</td>\n",
       "      <td>...</td>\n",
       "    </tr>\n",
       "    <tr>\n",
       "      <th>8755</th>\n",
       "      <td>0.00945</td>\n",
       "      <td>0.00208</td>\n",
       "    </tr>\n",
       "    <tr>\n",
       "      <th>8756</th>\n",
       "      <td>0.00977</td>\n",
       "      <td>0.00209</td>\n",
       "    </tr>\n",
       "    <tr>\n",
       "      <th>8757</th>\n",
       "      <td>0.00370</td>\n",
       "      <td>0.00207</td>\n",
       "    </tr>\n",
       "    <tr>\n",
       "      <th>8758</th>\n",
       "      <td>0.00866</td>\n",
       "      <td>0.00206</td>\n",
       "    </tr>\n",
       "    <tr>\n",
       "      <th>8759</th>\n",
       "      <td>0.26718</td>\n",
       "      <td>0.59221</td>\n",
       "    </tr>\n",
       "  </tbody>\n",
       "</table>\n",
       "<p>8760 rows × 2 columns</p>\n",
       "</div>"
      ],
      "text/plain": [
       "         speed  power_propulsion\n",
       "0     14.55234          12.27232\n",
       "1     13.99801          12.25874\n",
       "2     13.61092          11.45752\n",
       "3      9.64000           5.54543\n",
       "4      9.23427           6.07317\n",
       "...        ...               ...\n",
       "8755   0.00945           0.00208\n",
       "8756   0.00977           0.00209\n",
       "8757   0.00370           0.00207\n",
       "8758   0.00866           0.00206\n",
       "8759   0.26718           0.59221\n",
       "\n",
       "[8760 rows x 2 columns]"
      ]
     },
     "execution_count": 8,
     "metadata": {},
     "output_type": "execute_result"
    }
   ],
   "source": [
    "# Create a subset of the data that is relevant to the task\n",
    "data_task2 = data[['speed', 'power_propulsion']]\n",
    "data_task2"
   ]
  },
  {
   "cell_type": "markdown",
   "id": "612e3493-2a5a-4124-82ed-04e680d27b38",
   "metadata": {
    "slideshow": {
     "slide_type": "slide"
    },
    "tags": []
   },
   "source": [
    "Speed and power_propulsion have 50 and 26 values missing respectively. This is a small enough to ignore as it will not affect the results"
   ]
  },
  {
   "cell_type": "code",
   "execution_count": 9,
   "id": "9621122b-cb51-47c5-8244-7e9424275998",
   "metadata": {
    "slideshow": {
     "slide_type": "subslide"
    },
    "tags": []
   },
   "outputs": [],
   "source": [
    "data_task2 = data_task2.dropna()"
   ]
  },
  {
   "cell_type": "code",
   "execution_count": 10,
   "id": "4c70d58a-2f7b-4c44-9d85-f80509425092",
   "metadata": {
    "slideshow": {
     "slide_type": "skip"
    },
    "tags": []
   },
   "outputs": [
    {
     "data": {
      "text/plain": [
       "(8684, 2)"
      ]
     },
     "execution_count": 10,
     "metadata": {},
     "output_type": "execute_result"
    }
   ],
   "source": [
    "# Check to see how many rows there are after dropping the rows with missing values\n",
    "data_task2.shape"
   ]
  },
  {
   "cell_type": "code",
   "execution_count": 11,
   "id": "ea0ac072-6a51-4f34-b292-421156676006",
   "metadata": {
    "slideshow": {
     "slide_type": "slide"
    },
    "tags": []
   },
   "outputs": [
    {
     "data": {
      "text/plain": [
       "0.8675799086757991"
      ]
     },
     "execution_count": 11,
     "metadata": {},
     "output_type": "execute_result"
    }
   ],
   "source": [
    "# percent of data that is missing\n",
    "percent_missing = ((data[['speed', 'power_propulsion']].shape[0] - data_task2.shape[0])/data[['speed', 'power_propulsion']].shape[0])*100\n",
    "percent_missing"
   ]
  },
  {
   "cell_type": "code",
   "execution_count": 12,
   "id": "a1e6adac-b6c5-4086-bb56-0ffed7825ff0",
   "metadata": {
    "slideshow": {
     "slide_type": "skip"
    },
    "tags": []
   },
   "outputs": [
    {
     "data": {
      "text/plain": [
       "0"
      ]
     },
     "execution_count": 12,
     "metadata": {},
     "output_type": "execute_result"
    }
   ],
   "source": [
    "# Double-check that there are no more missing values\n",
    "data_task2.shape\n",
    "missing=data_task2.isnull().sum().sum()\n",
    "missing"
   ]
  },
  {
   "cell_type": "markdown",
   "id": "b6f9fb18-a637-4a1b-8864-9e61814d3299",
   "metadata": {
    "slideshow": {
     "slide_type": "slide"
    },
    "tags": []
   },
   "source": [
    "The task instructs to use only data where speed >= 7 knots"
   ]
  },
  {
   "cell_type": "code",
   "execution_count": 13,
   "id": "2390d227-3f75-4aa3-8c2d-f4cad923c7e3",
   "metadata": {
    "slideshow": {
     "slide_type": "subslide"
    },
    "tags": []
   },
   "outputs": [
    {
     "name": "stdout",
     "output_type": "stream",
     "text": [
      "         speed  power_propulsion\n",
      "0     14.55234          12.27232\n",
      "1     13.99801          12.25874\n",
      "2     13.61092          11.45752\n",
      "3      9.64000           5.54543\n",
      "4      9.23427           6.07317\n",
      "...        ...               ...\n",
      "6260  14.95157          17.01852\n",
      "6261  15.04532          17.44766\n",
      "6262  17.35090          17.72840\n",
      "6263  13.83708          13.58616\n",
      "6264   7.54217           7.37854\n",
      "\n",
      "[6265 rows x 2 columns]\n",
      "(6265, 2)\n"
     ]
    }
   ],
   "source": [
    "data_task2 = data_task2[data_task2['speed'] >= 7]\n",
    "data_task2 = data_task2.reset_index(drop=True)\n",
    "print(data_task2)\n",
    "print(data_task2.shape)"
   ]
  },
  {
   "cell_type": "code",
   "execution_count": 14,
   "id": "b0e2f3aa-ee63-4dc9-80ff-ac870a7353d7",
   "metadata": {
    "slideshow": {
     "slide_type": "slide"
    },
    "tags": []
   },
   "outputs": [],
   "source": [
    "# Seperate based on features and target variable\n",
    "x_init = data_task2[['speed']].values # Feature\n",
    "y_init = data_task2[['power_propulsion']].values # Target variable"
   ]
  },
  {
   "cell_type": "markdown",
   "id": "fe4a6c94-2375-40e2-b664-7dde87d31c86",
   "metadata": {
    "slideshow": {
     "slide_type": "slide"
    },
    "tags": []
   },
   "source": [
    "Two methods of detecting outliers are:\n",
    "\n",
    "1) Check if there are outliers past 3 standard deviations\n",
    "\n",
    "2) Use Interquantile Range to check if there are data points before the 25th percentile or past the 75th percentile\n",
    "\n",
    "I used both methods to see if there are any differences"
   ]
  },
  {
   "cell_type": "code",
   "execution_count": 15,
   "id": "46a926b6-db53-4268-bfb8-46952359c62d",
   "metadata": {
    "slideshow": {
     "slide_type": "subslide"
    },
    "tags": []
   },
   "outputs": [
    {
     "name": "stdout",
     "output_type": "stream",
     "text": [
      "Identified outliers: 0\n",
      "Non-outlier observations: 6265\n"
     ]
    }
   ],
   "source": [
    "x_init_copy = x_init.copy()\n",
    "\n",
    "# calculate summary statistics\n",
    "x_init_mean, x_init_std = x_init_copy.mean(), x_init_copy.std()\n",
    "# identify outliers\n",
    "cut_off = x_init_std * 3\n",
    "lower, upper = (x_init_mean - cut_off), (x_init_mean + cut_off)\n",
    "# identify outliers\n",
    "outliers = [x for x in x_init_copy if x < lower or x > upper]\n",
    "print('Identified outliers: %d' % len(outliers))\n",
    "# remove outliers\n",
    "outliers_removed = [x for x in x_init_copy if x >= lower and x <= upper]\n",
    "print('Non-outlier observations: %d' % len(outliers_removed))"
   ]
  },
  {
   "cell_type": "code",
   "execution_count": 16,
   "id": "43d2233a-b283-4244-9055-5f0bc2b62faa",
   "metadata": {
    "slideshow": {
     "slide_type": "subslide"
    },
    "tags": []
   },
   "outputs": [
    {
     "name": "stdout",
     "output_type": "stream",
     "text": [
      "Identified outliers: 0\n",
      "Non-outlier observations: 6265\n"
     ]
    }
   ],
   "source": [
    "# Try IQR for outlier detection\n",
    "x_init_iqr = x_init.copy()\n",
    "y_init_iqr = y_init.copy()\n",
    "Q1 = np.quantile(x_init_iqr, 0.25)\n",
    "Q3 = np.quantile(x_init_iqr, 0.75)\n",
    "iqr = Q3-Q1\n",
    "\n",
    "# Calculate the outlier cutoff\n",
    "cutoff_iqr = iqr * 1.5\n",
    "lower_iqr, upper_iqr = Q1 - cut_off, Q3 + cut_off\n",
    "\n",
    "# identify outliers\n",
    "outliers = [x for x in x_init_iqr if x < lower or x > upper]\n",
    "print('Identified outliers: %d' % len(outliers))\n",
    "# Remove outliers\n",
    "outliers_removed = [x for x in x_init_iqr if x >= lower and x <= upper]\n",
    "print('Non-outlier observations: %d' % len(outliers_removed))"
   ]
  },
  {
   "cell_type": "markdown",
   "id": "72006b23-3e58-49bd-b118-16c2f6a6fc18",
   "metadata": {
    "slideshow": {
     "slide_type": "slide"
    },
    "tags": []
   },
   "source": [
    "No outliers were detected using any of the methods. So I use the original split between the feature and target variable\n",
    "to conduct polynomial regression"
   ]
  },
  {
   "cell_type": "code",
   "execution_count": 17,
   "id": "4b7b444f-2c95-46ef-b9fa-b92b3a7d6a62",
   "metadata": {
    "slideshow": {
     "slide_type": "subslide"
    },
    "tags": []
   },
   "outputs": [],
   "source": [
    "# Set up training and testing sets\n",
    "x_train, x_test, y_train, y_test = train_test_split(x_init, y_init, train_size = 0.8)\n",
    "\n",
    "# Let's test a few degrees to see what fits best\n",
    "max_degrees = 9\n",
    "\n",
    "for degree in range(1, max_degrees):\n",
    "    x_train_polynomial = PolynomialFeatures(degree = degree).fit_transform(x_train)\n",
    "    x_test_polynomial = PolynomialFeatures(degree = degree).fit_transform(x_test)\n",
    "    lin_reg = LinearRegression()\n",
    "    model = lin_reg.fit(x_train_polynomial, y_train)\n",
    "    y_train_prediction = model.predict(x_train_polynomial)\n",
    "    rmse = mean_squared_error(y_train, y_train_prediction, squared = False)\n",
    "\n",
    "scores = -1 * cross_val_score(lin_reg, x_train_polynomial, y_train, cv = 8, scoring = 'neg_root_mean_squared_error')"
   ]
  },
  {
   "cell_type": "code",
   "execution_count": 18,
   "id": "28efda6f-466f-42e2-a633-802e3e06517b",
   "metadata": {
    "slideshow": {
     "slide_type": "subslide"
    },
    "tags": []
   },
   "outputs": [
    {
     "name": "stdout",
     "output_type": "stream",
     "text": [
      "RMSE scores:  [4.21283083 4.30858213 4.11507335 4.42198332 3.81627865 4.1765802\n",
      " 4.03576474 4.10744492]\n"
     ]
    },
    {
     "data": {
      "image/png": "[encoded data removed]",
      "text/plain": [
       "<Figure size 432x432 with 1 Axes>"
      ]
     },
     "metadata": {
      "needs_background": "light"
     },
     "output_type": "display_data"
    }
   ],
   "source": [
    "fig, ax = plt.subplots(figsize = (6,6))\n",
    "ax.plot(range(1, max_degrees), scores)\n",
    "ax.set_xlabel('Degree', fontsize = 20)\n",
    "ax.set_ylabel('RMSE', fontsize = 20)\n",
    "ax.set_title('RMSE VS Degree', fontsize = 25)\n",
    "\n",
    "print(\"RMSE scores: \", scores)"
   ]
  },
  {
   "cell_type": "markdown",
   "id": "4a467061-8c2a-403b-8e80-823e9e095d32",
   "metadata": {
    "slideshow": {
     "slide_type": "notes"
    },
    "tags": []
   },
   "source": [
    "Based on the graph, a fifth degree polynomial gives the least error.\n",
    "So, let's use Polynomial Regression with degree 5 on the test data."
   ]
  },
  {
   "cell_type": "code",
   "execution_count": 19,
   "id": "fc7761f8-8a6b-4843-aebf-14578e9d9b6a",
   "metadata": {
    "slideshow": {
     "slide_type": "slide"
    },
    "tags": []
   },
   "outputs": [
    {
     "name": "stdout",
     "output_type": "stream",
     "text": [
      "RMSE score:  4.050653884163627\n"
     ]
    }
   ],
   "source": [
    "# Now let's use the model to predict on the test data using degree 5.\n",
    "\n",
    "linear_reg = LinearRegression()\n",
    "model_lin_reg = linear_reg.fit(PolynomialFeatures(degree = 5).fit_transform(x_test), y_test)\n",
    "y_test_prediction = model_lin_reg.predict(PolynomialFeatures(degree = 5).fit_transform(x_test))\n",
    "\n",
    "rmse_y = mean_squared_error(y_test, y_test_prediction, squared = False)\n",
    "print(\"RMSE score: \", rmse_y)"
   ]
  },
  {
   "cell_type": "code",
   "execution_count": 20,
   "id": "4a32e394-c542-4e3e-8ddb-7b8d1a85f1dc",
   "metadata": {
    "slideshow": {
     "slide_type": "slide"
    },
    "tags": []
   },
   "outputs": [
    {
     "data": {
      "text/html": [
       "<div>\n",
       "<style scoped>\n",
       "    .dataframe tbody tr th:only-of-type {\n",
       "        vertical-align: middle;\n",
       "    }\n",
       "\n",
       "    .dataframe tbody tr th {\n",
       "        vertical-align: top;\n",
       "    }\n",
       "\n",
       "    .dataframe thead th {\n",
       "        text-align: right;\n",
       "    }\n",
       "</style>\n",
       "<table border=\"1\" class=\"dataframe\">\n",
       "  <thead>\n",
       "    <tr style=\"text-align: right;\">\n",
       "      <th></th>\n",
       "      <th>speed</th>\n",
       "      <th>power_propulsion</th>\n",
       "    </tr>\n",
       "  </thead>\n",
       "  <tbody>\n",
       "    <tr>\n",
       "      <th>0</th>\n",
       "      <td>10.34130</td>\n",
       "      <td>6.123972</td>\n",
       "    </tr>\n",
       "    <tr>\n",
       "      <th>1</th>\n",
       "      <td>20.83187</td>\n",
       "      <td>34.346444</td>\n",
       "    </tr>\n",
       "    <tr>\n",
       "      <th>2</th>\n",
       "      <td>20.79608</td>\n",
       "      <td>34.170932</td>\n",
       "    </tr>\n",
       "    <tr>\n",
       "      <th>3</th>\n",
       "      <td>7.60225</td>\n",
       "      <td>3.663755</td>\n",
       "    </tr>\n",
       "    <tr>\n",
       "      <th>4</th>\n",
       "      <td>19.64579</td>\n",
       "      <td>28.605901</td>\n",
       "    </tr>\n",
       "    <tr>\n",
       "      <th>...</th>\n",
       "      <td>...</td>\n",
       "      <td>...</td>\n",
       "    </tr>\n",
       "    <tr>\n",
       "      <th>1248</th>\n",
       "      <td>11.21690</td>\n",
       "      <td>8.194271</td>\n",
       "    </tr>\n",
       "    <tr>\n",
       "      <th>1249</th>\n",
       "      <td>20.41817</td>\n",
       "      <td>32.312069</td>\n",
       "    </tr>\n",
       "    <tr>\n",
       "      <th>1250</th>\n",
       "      <td>20.43424</td>\n",
       "      <td>32.391019</td>\n",
       "    </tr>\n",
       "    <tr>\n",
       "      <th>1251</th>\n",
       "      <td>17.26587</td>\n",
       "      <td>19.737465</td>\n",
       "    </tr>\n",
       "    <tr>\n",
       "      <th>1252</th>\n",
       "      <td>11.68349</td>\n",
       "      <td>9.260246</td>\n",
       "    </tr>\n",
       "  </tbody>\n",
       "</table>\n",
       "<p>1253 rows × 2 columns</p>\n",
       "</div>"
      ],
      "text/plain": [
       "         speed  power_propulsion\n",
       "0     10.34130          6.123972\n",
       "1     20.83187         34.346444\n",
       "2     20.79608         34.170932\n",
       "3      7.60225          3.663755\n",
       "4     19.64579         28.605901\n",
       "...        ...               ...\n",
       "1248  11.21690          8.194271\n",
       "1249  20.41817         32.312069\n",
       "1250  20.43424         32.391019\n",
       "1251  17.26587         19.737465\n",
       "1252  11.68349          9.260246\n",
       "\n",
       "[1253 rows x 2 columns]"
      ]
     },
     "execution_count": 20,
     "metadata": {},
     "output_type": "execute_result"
    }
   ],
   "source": [
    "# Make a DataFrame of the speed test data and the predicted power propulsion data\n",
    "x_test_flat = x_test.flatten()\n",
    "y_test_predicts_flat = y_test_prediction.flatten()\n",
    "test_predictions = pd.DataFrame({'speed': x_test_flat, 'power_propulsion': y_test_predicts_flat}, columns=['speed', 'power_propulsion'])\n",
    "test_predictions"
   ]
  },
  {
   "cell_type": "markdown",
   "id": "c36f0515-3ec3-4898-a5be-5aed5fb23489",
   "metadata": {
    "slideshow": {
     "slide_type": "subslide"
    },
    "tags": []
   },
   "source": [
    "Get a subset of the data that only includes speeds between 18 and 19 knots to make it easier to find the row that answers the question"
   ]
  },
  {
   "cell_type": "code",
   "execution_count": 21,
   "id": "37dadc7f-3455-4c3e-8cc8-e88d75f6a7b1",
   "metadata": {
    "slideshow": {
     "slide_type": "subslide"
    },
    "tags": []
   },
   "outputs": [
    {
     "data": {
      "text/html": [
       "<div>\n",
       "<style scoped>\n",
       "    .dataframe tbody tr th:only-of-type {\n",
       "        vertical-align: middle;\n",
       "    }\n",
       "\n",
       "    .dataframe tbody tr th {\n",
       "        vertical-align: top;\n",
       "    }\n",
       "\n",
       "    .dataframe thead th {\n",
       "        text-align: right;\n",
       "    }\n",
       "</style>\n",
       "<table border=\"1\" class=\"dataframe\">\n",
       "  <thead>\n",
       "    <tr style=\"text-align: right;\">\n",
       "      <th></th>\n",
       "      <th>speed</th>\n",
       "      <th>power_propulsion</th>\n",
       "    </tr>\n",
       "  </thead>\n",
       "  <tbody>\n",
       "    <tr>\n",
       "      <th>7</th>\n",
       "      <td>18.89498</td>\n",
       "      <td>25.315032</td>\n",
       "    </tr>\n",
       "    <tr>\n",
       "      <th>13</th>\n",
       "      <td>18.99224</td>\n",
       "      <td>25.718349</td>\n",
       "    </tr>\n",
       "    <tr>\n",
       "      <th>26</th>\n",
       "      <td>18.29666</td>\n",
       "      <td>23.004150</td>\n",
       "    </tr>\n",
       "    <tr>\n",
       "      <th>31</th>\n",
       "      <td>18.71867</td>\n",
       "      <td>24.603143</td>\n",
       "    </tr>\n",
       "    <tr>\n",
       "      <th>36</th>\n",
       "      <td>18.24843</td>\n",
       "      <td>22.831073</td>\n",
       "    </tr>\n",
       "    <tr>\n",
       "      <th>...</th>\n",
       "      <td>...</td>\n",
       "      <td>...</td>\n",
       "    </tr>\n",
       "    <tr>\n",
       "      <th>1214</th>\n",
       "      <td>18.51545</td>\n",
       "      <td>23.814339</td>\n",
       "    </tr>\n",
       "    <tr>\n",
       "      <th>1223</th>\n",
       "      <td>18.10982</td>\n",
       "      <td>22.344830</td>\n",
       "    </tr>\n",
       "    <tr>\n",
       "      <th>1226</th>\n",
       "      <td>18.31238</td>\n",
       "      <td>23.060995</td>\n",
       "    </tr>\n",
       "    <tr>\n",
       "      <th>1239</th>\n",
       "      <td>18.72325</td>\n",
       "      <td>24.621316</td>\n",
       "    </tr>\n",
       "    <tr>\n",
       "      <th>1242</th>\n",
       "      <td>18.50997</td>\n",
       "      <td>23.793549</td>\n",
       "    </tr>\n",
       "  </tbody>\n",
       "</table>\n",
       "<p>130 rows × 2 columns</p>\n",
       "</div>"
      ],
      "text/plain": [
       "         speed  power_propulsion\n",
       "7     18.89498         25.315032\n",
       "13    18.99224         25.718349\n",
       "26    18.29666         23.004150\n",
       "31    18.71867         24.603143\n",
       "36    18.24843         22.831073\n",
       "...        ...               ...\n",
       "1214  18.51545         23.814339\n",
       "1223  18.10982         22.344830\n",
       "1226  18.31238         23.060995\n",
       "1239  18.72325         24.621316\n",
       "1242  18.50997         23.793549\n",
       "\n",
       "[130 rows x 2 columns]"
      ]
     },
     "execution_count": 21,
     "metadata": {},
     "output_type": "execute_result"
    }
   ],
   "source": [
    "test_predictions_speed_18_knots = test_predictions[(test_predictions['speed'] >= 18) & (test_predictions['speed'] < 19)]\n",
    "test_predictions_speed_18_knots"
   ]
  },
  {
   "cell_type": "code",
   "execution_count": 22,
   "id": "c6c999a0-39fb-4f7a-9bc8-61ee99a31cfc",
   "metadata": {
    "slideshow": {
     "slide_type": "subslide"
    },
    "tags": []
   },
   "outputs": [
    {
     "data": {
      "text/html": [
       "<div>\n",
       "<style scoped>\n",
       "    .dataframe tbody tr th:only-of-type {\n",
       "        vertical-align: middle;\n",
       "    }\n",
       "\n",
       "    .dataframe tbody tr th {\n",
       "        vertical-align: top;\n",
       "    }\n",
       "\n",
       "    .dataframe thead th {\n",
       "        text-align: right;\n",
       "    }\n",
       "</style>\n",
       "<table border=\"1\" class=\"dataframe\">\n",
       "  <thead>\n",
       "    <tr style=\"text-align: right;\">\n",
       "      <th></th>\n",
       "      <th>speed</th>\n",
       "      <th>power_propulsion</th>\n",
       "    </tr>\n",
       "  </thead>\n",
       "  <tbody>\n",
       "    <tr>\n",
       "      <th>626</th>\n",
       "      <td>18.00645</td>\n",
       "      <td>21.993005</td>\n",
       "    </tr>\n",
       "  </tbody>\n",
       "</table>\n",
       "</div>"
      ],
      "text/plain": [
       "        speed  power_propulsion\n",
       "626  18.00645         21.993005"
      ]
     },
     "execution_count": 22,
     "metadata": {},
     "output_type": "execute_result"
    }
   ],
   "source": [
    "test_predictions_speed_18_knots.loc[test_predictions_speed_18_knots['speed'] == test_predictions_speed_18_knots['speed'].min()]"
   ]
  },
  {
   "cell_type": "markdown",
   "id": "ceec71ee-29fc-44af-813a-7a6a1b02c2f7",
   "metadata": {
    "slideshow": {
     "slide_type": "subslide"
    },
    "tags": []
   },
   "source": [
    "So, the answer to the question: \"What is the power propulsion when the speed is 18 knots?\"\n",
    "It's about 22 MW"
   ]
  },
  {
   "cell_type": "markdown",
   "id": "90ad4d76-b96a-4458-84a0-dcf2126c97dc",
   "metadata": {
    "slideshow": {
     "slide_type": "slide"
    },
    "tags": []
   },
   "source": [
    "# Task 3"
   ]
  },
  {
   "cell_type": "markdown",
   "id": "17f089e7-4097-4979-a537-a5a3a9879083",
   "metadata": {
    "slideshow": {
     "slide_type": "subslide"
    },
    "tags": []
   },
   "source": [
    "## Perform regression analysis of power_hvac ~ outside_air_temperature + sea_temperature + speed + sog with power_hvac as the response variable."
   ]
  },
  {
   "cell_type": "markdown",
   "id": "4c2682a5-180b-4b2b-8597-4e3b59871893",
   "metadata": {
    "slideshow": {
     "slide_type": "subslide"
    },
    "tags": []
   },
   "source": [
    "### Instructions:\n",
    "### Remove outliers. First perform Principal Component Analysis to get explained variance ratio of each variable. Plot your results and explain your findings. Use Lasso, Ridge and Elastic Net regression to build your model (regularization). Tune your hyperparameters via K-Fold Cross Validation. Using the best parameters, report RSME on the test data set (80-20 train/test split). Which model performed the best? Perform regular linear regression using top 2 principal components instead. How does your results compare to the regressions from the previous step?\n"
   ]
  },
  {
   "cell_type": "markdown",
   "id": "93ef965a-66b2-468f-8937-812f09937a80",
   "metadata": {
    "slideshow": {
     "slide_type": "slide"
    },
    "tags": []
   },
   "source": [
    "SOG is a ship's speed relative to land. It is a sum of a cruise ships speed, wind velocity, and current velocity. Since the description of 'speed' is 'Ship’s speed relative to land', this is SOG and so speed + sog are the same in this situation."
   ]
  },
  {
   "cell_type": "code",
   "execution_count": 23,
   "id": "a5860651-25b9-4000-be07-2e1e1e239279",
   "metadata": {
    "slideshow": {
     "slide_type": "slide"
    },
    "tags": []
   },
   "outputs": [
    {
     "data": {
      "text/html": [
       "<div>\n",
       "<style scoped>\n",
       "    .dataframe tbody tr th:only-of-type {\n",
       "        vertical-align: middle;\n",
       "    }\n",
       "\n",
       "    .dataframe tbody tr th {\n",
       "        vertical-align: top;\n",
       "    }\n",
       "\n",
       "    .dataframe thead th {\n",
       "        text-align: right;\n",
       "    }\n",
       "</style>\n",
       "<table border=\"1\" class=\"dataframe\">\n",
       "  <thead>\n",
       "    <tr style=\"text-align: right;\">\n",
       "      <th></th>\n",
       "      <th>ts</th>\n",
       "      <th>power_hvac</th>\n",
       "      <th>outside_air_temperature</th>\n",
       "      <th>sea_temperature</th>\n",
       "      <th>speed</th>\n",
       "    </tr>\n",
       "  </thead>\n",
       "  <tbody>\n",
       "    <tr>\n",
       "      <th>0</th>\n",
       "      <td>2019-01-01T00:00:00</td>\n",
       "      <td>2.01977</td>\n",
       "      <td>25.76958</td>\n",
       "      <td>26.67483</td>\n",
       "      <td>14.55234</td>\n",
       "    </tr>\n",
       "    <tr>\n",
       "      <th>1</th>\n",
       "      <td>2019-01-01T01:00:00</td>\n",
       "      <td>2.05053</td>\n",
       "      <td>25.71958</td>\n",
       "      <td>27.11862</td>\n",
       "      <td>13.99801</td>\n",
       "    </tr>\n",
       "    <tr>\n",
       "      <th>2</th>\n",
       "      <td>2019-01-01T02:00:00</td>\n",
       "      <td>2.05370</td>\n",
       "      <td>25.68384</td>\n",
       "      <td>27.05570</td>\n",
       "      <td>13.61092</td>\n",
       "    </tr>\n",
       "    <tr>\n",
       "      <th>3</th>\n",
       "      <td>2019-01-01T03:00:00</td>\n",
       "      <td>2.04442</td>\n",
       "      <td>25.85318</td>\n",
       "      <td>27.18492</td>\n",
       "      <td>9.64000</td>\n",
       "    </tr>\n",
       "    <tr>\n",
       "      <th>4</th>\n",
       "      <td>2019-01-01T04:00:00</td>\n",
       "      <td>2.01912</td>\n",
       "      <td>26.04058</td>\n",
       "      <td>27.23300</td>\n",
       "      <td>9.23427</td>\n",
       "    </tr>\n",
       "    <tr>\n",
       "      <th>...</th>\n",
       "      <td>...</td>\n",
       "      <td>...</td>\n",
       "      <td>...</td>\n",
       "      <td>...</td>\n",
       "      <td>...</td>\n",
       "    </tr>\n",
       "    <tr>\n",
       "      <th>8755</th>\n",
       "      <td>2019-12-31T19:00:00</td>\n",
       "      <td>0.94602</td>\n",
       "      <td>NaN</td>\n",
       "      <td>21.79653</td>\n",
       "      <td>0.00945</td>\n",
       "    </tr>\n",
       "    <tr>\n",
       "      <th>8756</th>\n",
       "      <td>2019-12-31T20:00:00</td>\n",
       "      <td>0.97157</td>\n",
       "      <td>NaN</td>\n",
       "      <td>21.78712</td>\n",
       "      <td>0.00977</td>\n",
       "    </tr>\n",
       "    <tr>\n",
       "      <th>8757</th>\n",
       "      <td>2019-12-31T21:00:00</td>\n",
       "      <td>0.93406</td>\n",
       "      <td>NaN</td>\n",
       "      <td>21.79871</td>\n",
       "      <td>0.00370</td>\n",
       "    </tr>\n",
       "    <tr>\n",
       "      <th>8758</th>\n",
       "      <td>2019-12-31T22:00:00</td>\n",
       "      <td>1.03367</td>\n",
       "      <td>NaN</td>\n",
       "      <td>21.79068</td>\n",
       "      <td>0.00866</td>\n",
       "    </tr>\n",
       "    <tr>\n",
       "      <th>8759</th>\n",
       "      <td>2019-12-31T23:00:00</td>\n",
       "      <td>1.05457</td>\n",
       "      <td>NaN</td>\n",
       "      <td>21.75023</td>\n",
       "      <td>0.26718</td>\n",
       "    </tr>\n",
       "  </tbody>\n",
       "</table>\n",
       "<p>8760 rows × 5 columns</p>\n",
       "</div>"
      ],
      "text/plain": [
       "                       ts  power_hvac  outside_air_temperature  \\\n",
       "0     2019-01-01T00:00:00     2.01977                 25.76958   \n",
       "1     2019-01-01T01:00:00     2.05053                 25.71958   \n",
       "2     2019-01-01T02:00:00     2.05370                 25.68384   \n",
       "3     2019-01-01T03:00:00     2.04442                 25.85318   \n",
       "4     2019-01-01T04:00:00     2.01912                 26.04058   \n",
       "...                   ...         ...                      ...   \n",
       "8755  2019-12-31T19:00:00     0.94602                      NaN   \n",
       "8756  2019-12-31T20:00:00     0.97157                      NaN   \n",
       "8757  2019-12-31T21:00:00     0.93406                      NaN   \n",
       "8758  2019-12-31T22:00:00     1.03367                      NaN   \n",
       "8759  2019-12-31T23:00:00     1.05457                      NaN   \n",
       "\n",
       "      sea_temperature     speed  \n",
       "0            26.67483  14.55234  \n",
       "1            27.11862  13.99801  \n",
       "2            27.05570  13.61092  \n",
       "3            27.18492   9.64000  \n",
       "4            27.23300   9.23427  \n",
       "...               ...       ...  \n",
       "8755         21.79653   0.00945  \n",
       "8756         21.78712   0.00977  \n",
       "8757         21.79871   0.00370  \n",
       "8758         21.79068   0.00866  \n",
       "8759         21.75023   0.26718  \n",
       "\n",
       "[8760 rows x 5 columns]"
      ]
     },
     "execution_count": 23,
     "metadata": {},
     "output_type": "execute_result"
    }
   ],
   "source": [
    "# Obtain the subset relevant to the task\n",
    "data_task3 = data[['ts', 'power_hvac', 'outside_air_temperature', 'sea_temperature', 'speed']].copy()\n",
    "data_task3"
   ]
  },
  {
   "cell_type": "code",
   "execution_count": 24,
   "id": "2a7e154e-f1a3-4e68-915d-ef8df5f294ad",
   "metadata": {
    "slideshow": {
     "slide_type": "slide"
    },
    "tags": []
   },
   "outputs": [
    {
     "data": {
      "text/plain": [
       "ts                            0\n",
       "power_hvac                   26\n",
       "outside_air_temperature    7043\n",
       "sea_temperature              26\n",
       "speed                        50\n",
       "dtype: int64"
      ]
     },
     "execution_count": 24,
     "metadata": {},
     "output_type": "execute_result"
    }
   ],
   "source": [
    "# Check how many missing values is this subset of the data\n",
    "missing_values_count_task3 = data_task3.isnull().sum()\n",
    "missing_values_count_task3"
   ]
  },
  {
   "cell_type": "code",
   "execution_count": 25,
   "id": "bd66a0b0-179c-4292-9682-b5e95e2624ae",
   "metadata": {
    "slideshow": {
     "slide_type": "slide"
    },
    "tags": []
   },
   "outputs": [
    {
     "data": {
      "image/png": "[encoded data removed]",
      "text/plain": [
       "<Figure size 432x288 with 1 Axes>"
      ]
     },
     "metadata": {
      "needs_background": "light"
     },
     "output_type": "display_data"
    }
   ],
   "source": [
    "fig_1 = plt.scatter(data_task3.index, data_task3['outside_air_temperature'])"
   ]
  },
  {
   "cell_type": "markdown",
   "id": "05ee3e96-39ca-4aec-b08d-0966d287ce77",
   "metadata": {
    "slideshow": {
     "slide_type": "slide"
    },
    "tags": []
   },
   "source": [
    "When looking at the data, outside_air_temperature values stop at 3/14/2019 at 14:00. Simple imputation would not works since this is time-series data.  iImputation using mean, for example, would skew results since imputed values will not have the same trend as the rest of the data. Also, there is no data as to where the ship traveled between April and December, so an attempt at finding outside air temperature data cannot be made. The analysis is done using the limited data there is."
   ]
  },
  {
   "cell_type": "code",
   "execution_count": 26,
   "id": "6f31b0b4-48c0-4b5b-9587-01999f8efacc",
   "metadata": {
    "slideshow": {
     "slide_type": "skip"
    },
    "tags": []
   },
   "outputs": [],
   "source": [
    "data_task3['ts'] = pd.to_datetime(data_task3['ts'], format = \"%Y-%m-%d %H:%M:%S\")"
   ]
  },
  {
   "cell_type": "code",
   "execution_count": 27,
   "id": "8250e1c2-680b-42db-bb80-18815ca202f4",
   "metadata": {
    "slideshow": {
     "slide_type": "skip"
    },
    "tags": []
   },
   "outputs": [],
   "source": [
    "data_task3['time'] = data_task3['ts'].dt.time"
   ]
  },
  {
   "cell_type": "code",
   "execution_count": 28,
   "id": "026e3349-6a47-4068-b4de-7f34730f7c02",
   "metadata": {
    "slideshow": {
     "slide_type": "skip"
    },
    "tags": []
   },
   "outputs": [
    {
     "data": {
      "text/html": [
       "<div>\n",
       "<style scoped>\n",
       "    .dataframe tbody tr th:only-of-type {\n",
       "        vertical-align: middle;\n",
       "    }\n",
       "\n",
       "    .dataframe tbody tr th {\n",
       "        vertical-align: top;\n",
       "    }\n",
       "\n",
       "    .dataframe thead th {\n",
       "        text-align: right;\n",
       "    }\n",
       "</style>\n",
       "<table border=\"1\" class=\"dataframe\">\n",
       "  <thead>\n",
       "    <tr style=\"text-align: right;\">\n",
       "      <th></th>\n",
       "      <th>date</th>\n",
       "      <th>time</th>\n",
       "      <th>power_hvac</th>\n",
       "      <th>outside_air_temperature</th>\n",
       "      <th>sea_temperature</th>\n",
       "      <th>speed</th>\n",
       "    </tr>\n",
       "  </thead>\n",
       "  <tbody>\n",
       "    <tr>\n",
       "      <th>0</th>\n",
       "      <td>2019-01-01</td>\n",
       "      <td>00:00:00</td>\n",
       "      <td>2.01977</td>\n",
       "      <td>25.76958</td>\n",
       "      <td>26.67483</td>\n",
       "      <td>14.55234</td>\n",
       "    </tr>\n",
       "    <tr>\n",
       "      <th>1</th>\n",
       "      <td>2019-01-01</td>\n",
       "      <td>01:00:00</td>\n",
       "      <td>2.05053</td>\n",
       "      <td>25.71958</td>\n",
       "      <td>27.11862</td>\n",
       "      <td>13.99801</td>\n",
       "    </tr>\n",
       "    <tr>\n",
       "      <th>2</th>\n",
       "      <td>2019-01-01</td>\n",
       "      <td>02:00:00</td>\n",
       "      <td>2.05370</td>\n",
       "      <td>25.68384</td>\n",
       "      <td>27.05570</td>\n",
       "      <td>13.61092</td>\n",
       "    </tr>\n",
       "    <tr>\n",
       "      <th>3</th>\n",
       "      <td>2019-01-01</td>\n",
       "      <td>03:00:00</td>\n",
       "      <td>2.04442</td>\n",
       "      <td>25.85318</td>\n",
       "      <td>27.18492</td>\n",
       "      <td>9.64000</td>\n",
       "    </tr>\n",
       "    <tr>\n",
       "      <th>4</th>\n",
       "      <td>2019-01-01</td>\n",
       "      <td>04:00:00</td>\n",
       "      <td>2.01912</td>\n",
       "      <td>26.04058</td>\n",
       "      <td>27.23300</td>\n",
       "      <td>9.23427</td>\n",
       "    </tr>\n",
       "    <tr>\n",
       "      <th>...</th>\n",
       "      <td>...</td>\n",
       "      <td>...</td>\n",
       "      <td>...</td>\n",
       "      <td>...</td>\n",
       "      <td>...</td>\n",
       "      <td>...</td>\n",
       "    </tr>\n",
       "    <tr>\n",
       "      <th>8755</th>\n",
       "      <td>2019-12-31</td>\n",
       "      <td>19:00:00</td>\n",
       "      <td>0.94602</td>\n",
       "      <td>NaN</td>\n",
       "      <td>21.79653</td>\n",
       "      <td>0.00945</td>\n",
       "    </tr>\n",
       "    <tr>\n",
       "      <th>8756</th>\n",
       "      <td>2019-12-31</td>\n",
       "      <td>20:00:00</td>\n",
       "      <td>0.97157</td>\n",
       "      <td>NaN</td>\n",
       "      <td>21.78712</td>\n",
       "      <td>0.00977</td>\n",
       "    </tr>\n",
       "    <tr>\n",
       "      <th>8757</th>\n",
       "      <td>2019-12-31</td>\n",
       "      <td>21:00:00</td>\n",
       "      <td>0.93406</td>\n",
       "      <td>NaN</td>\n",
       "      <td>21.79871</td>\n",
       "      <td>0.00370</td>\n",
       "    </tr>\n",
       "    <tr>\n",
       "      <th>8758</th>\n",
       "      <td>2019-12-31</td>\n",
       "      <td>22:00:00</td>\n",
       "      <td>1.03367</td>\n",
       "      <td>NaN</td>\n",
       "      <td>21.79068</td>\n",
       "      <td>0.00866</td>\n",
       "    </tr>\n",
       "    <tr>\n",
       "      <th>8759</th>\n",
       "      <td>2019-12-31</td>\n",
       "      <td>23:00:00</td>\n",
       "      <td>1.05457</td>\n",
       "      <td>NaN</td>\n",
       "      <td>21.75023</td>\n",
       "      <td>0.26718</td>\n",
       "    </tr>\n",
       "  </tbody>\n",
       "</table>\n",
       "<p>8760 rows × 6 columns</p>\n",
       "</div>"
      ],
      "text/plain": [
       "            date      time  power_hvac  outside_air_temperature  \\\n",
       "0     2019-01-01  00:00:00     2.01977                 25.76958   \n",
       "1     2019-01-01  01:00:00     2.05053                 25.71958   \n",
       "2     2019-01-01  02:00:00     2.05370                 25.68384   \n",
       "3     2019-01-01  03:00:00     2.04442                 25.85318   \n",
       "4     2019-01-01  04:00:00     2.01912                 26.04058   \n",
       "...          ...       ...         ...                      ...   \n",
       "8755  2019-12-31  19:00:00     0.94602                      NaN   \n",
       "8756  2019-12-31  20:00:00     0.97157                      NaN   \n",
       "8757  2019-12-31  21:00:00     0.93406                      NaN   \n",
       "8758  2019-12-31  22:00:00     1.03367                      NaN   \n",
       "8759  2019-12-31  23:00:00     1.05457                      NaN   \n",
       "\n",
       "      sea_temperature     speed  \n",
       "0            26.67483  14.55234  \n",
       "1            27.11862  13.99801  \n",
       "2            27.05570  13.61092  \n",
       "3            27.18492   9.64000  \n",
       "4            27.23300   9.23427  \n",
       "...               ...       ...  \n",
       "8755         21.79653   0.00945  \n",
       "8756         21.78712   0.00977  \n",
       "8757         21.79871   0.00370  \n",
       "8758         21.79068   0.00866  \n",
       "8759         21.75023   0.26718  \n",
       "\n",
       "[8760 rows x 6 columns]"
      ]
     },
     "execution_count": 28,
     "metadata": {},
     "output_type": "execute_result"
    }
   ],
   "source": [
    "data_task3['ts'] = data_task3['ts'].dt.date\n",
    "data_task3 = data_task3.rename(columns={'ts': 'date'})\n",
    "data_task3 = data_task3[['date', 'time', 'power_hvac', 'outside_air_temperature', 'sea_temperature', 'speed']]\n",
    "data_task3"
   ]
  },
  {
   "cell_type": "code",
   "execution_count": 29,
   "id": "c16ff3d8-a03a-409f-928c-5d8a1c82a031",
   "metadata": {
    "slideshow": {
     "slide_type": "skip"
    },
    "tags": []
   },
   "outputs": [
    {
     "data": {
      "text/html": [
       "<div>\n",
       "<style scoped>\n",
       "    .dataframe tbody tr th:only-of-type {\n",
       "        vertical-align: middle;\n",
       "    }\n",
       "\n",
       "    .dataframe tbody tr th {\n",
       "        vertical-align: top;\n",
       "    }\n",
       "\n",
       "    .dataframe thead th {\n",
       "        text-align: right;\n",
       "    }\n",
       "</style>\n",
       "<table border=\"1\" class=\"dataframe\">\n",
       "  <thead>\n",
       "    <tr style=\"text-align: right;\">\n",
       "      <th></th>\n",
       "      <th>date</th>\n",
       "      <th>time</th>\n",
       "      <th>power_hvac</th>\n",
       "      <th>outside_air_temperature</th>\n",
       "      <th>sea_temperature</th>\n",
       "      <th>speed</th>\n",
       "    </tr>\n",
       "  </thead>\n",
       "  <tbody>\n",
       "    <tr>\n",
       "      <th>0</th>\n",
       "      <td>2019-01-01</td>\n",
       "      <td>00:00:00</td>\n",
       "      <td>2.01977</td>\n",
       "      <td>25.76958</td>\n",
       "      <td>26.67483</td>\n",
       "      <td>14.55234</td>\n",
       "    </tr>\n",
       "    <tr>\n",
       "      <th>1</th>\n",
       "      <td>2019-01-01</td>\n",
       "      <td>01:00:00</td>\n",
       "      <td>2.05053</td>\n",
       "      <td>25.71958</td>\n",
       "      <td>27.11862</td>\n",
       "      <td>13.99801</td>\n",
       "    </tr>\n",
       "    <tr>\n",
       "      <th>2</th>\n",
       "      <td>2019-01-01</td>\n",
       "      <td>02:00:00</td>\n",
       "      <td>2.05370</td>\n",
       "      <td>25.68384</td>\n",
       "      <td>27.05570</td>\n",
       "      <td>13.61092</td>\n",
       "    </tr>\n",
       "    <tr>\n",
       "      <th>3</th>\n",
       "      <td>2019-01-01</td>\n",
       "      <td>03:00:00</td>\n",
       "      <td>2.04442</td>\n",
       "      <td>25.85318</td>\n",
       "      <td>27.18492</td>\n",
       "      <td>9.64000</td>\n",
       "    </tr>\n",
       "    <tr>\n",
       "      <th>4</th>\n",
       "      <td>2019-01-01</td>\n",
       "      <td>04:00:00</td>\n",
       "      <td>2.01912</td>\n",
       "      <td>26.04058</td>\n",
       "      <td>27.23300</td>\n",
       "      <td>9.23427</td>\n",
       "    </tr>\n",
       "    <tr>\n",
       "      <th>...</th>\n",
       "      <td>...</td>\n",
       "      <td>...</td>\n",
       "      <td>...</td>\n",
       "      <td>...</td>\n",
       "      <td>...</td>\n",
       "      <td>...</td>\n",
       "    </tr>\n",
       "    <tr>\n",
       "      <th>1712</th>\n",
       "      <td>2019-03-14</td>\n",
       "      <td>10:00:00</td>\n",
       "      <td>0.72233</td>\n",
       "      <td>16.18405</td>\n",
       "      <td>20.01794</td>\n",
       "      <td>19.56097</td>\n",
       "    </tr>\n",
       "    <tr>\n",
       "      <th>1713</th>\n",
       "      <td>2019-03-14</td>\n",
       "      <td>11:00:00</td>\n",
       "      <td>0.73985</td>\n",
       "      <td>16.48511</td>\n",
       "      <td>20.65828</td>\n",
       "      <td>19.50237</td>\n",
       "    </tr>\n",
       "    <tr>\n",
       "      <th>1714</th>\n",
       "      <td>2019-03-14</td>\n",
       "      <td>12:00:00</td>\n",
       "      <td>0.78417</td>\n",
       "      <td>16.73961</td>\n",
       "      <td>20.54717</td>\n",
       "      <td>18.85918</td>\n",
       "    </tr>\n",
       "    <tr>\n",
       "      <th>1715</th>\n",
       "      <td>2019-03-14</td>\n",
       "      <td>13:00:00</td>\n",
       "      <td>0.84567</td>\n",
       "      <td>16.87538</td>\n",
       "      <td>20.32942</td>\n",
       "      <td>18.82308</td>\n",
       "    </tr>\n",
       "    <tr>\n",
       "      <th>1716</th>\n",
       "      <td>2019-03-14</td>\n",
       "      <td>14:00:00</td>\n",
       "      <td>0.86853</td>\n",
       "      <td>16.97450</td>\n",
       "      <td>20.22148</td>\n",
       "      <td>18.77442</td>\n",
       "    </tr>\n",
       "  </tbody>\n",
       "</table>\n",
       "<p>1717 rows × 6 columns</p>\n",
       "</div>"
      ],
      "text/plain": [
       "            date      time  power_hvac  outside_air_temperature  \\\n",
       "0     2019-01-01  00:00:00     2.01977                 25.76958   \n",
       "1     2019-01-01  01:00:00     2.05053                 25.71958   \n",
       "2     2019-01-01  02:00:00     2.05370                 25.68384   \n",
       "3     2019-01-01  03:00:00     2.04442                 25.85318   \n",
       "4     2019-01-01  04:00:00     2.01912                 26.04058   \n",
       "...          ...       ...         ...                      ...   \n",
       "1712  2019-03-14  10:00:00     0.72233                 16.18405   \n",
       "1713  2019-03-14  11:00:00     0.73985                 16.48511   \n",
       "1714  2019-03-14  12:00:00     0.78417                 16.73961   \n",
       "1715  2019-03-14  13:00:00     0.84567                 16.87538   \n",
       "1716  2019-03-14  14:00:00     0.86853                 16.97450   \n",
       "\n",
       "      sea_temperature     speed  \n",
       "0            26.67483  14.55234  \n",
       "1            27.11862  13.99801  \n",
       "2            27.05570  13.61092  \n",
       "3            27.18492   9.64000  \n",
       "4            27.23300   9.23427  \n",
       "...               ...       ...  \n",
       "1712         20.01794  19.56097  \n",
       "1713         20.65828  19.50237  \n",
       "1714         20.54717  18.85918  \n",
       "1715         20.32942  18.82308  \n",
       "1716         20.22148  18.77442  \n",
       "\n",
       "[1717 rows x 6 columns]"
      ]
     },
     "execution_count": 29,
     "metadata": {},
     "output_type": "execute_result"
    }
   ],
   "source": [
    "data_task3 = data_task3.dropna()\n",
    "data_task3 = data_task3.reset_index(drop=True)\n",
    "data_task3"
   ]
  },
  {
   "cell_type": "code",
   "execution_count": 30,
   "id": "8c2f62af-5bef-4797-ab11-f7ecb823480d",
   "metadata": {
    "slideshow": {
     "slide_type": "slide"
    },
    "tags": []
   },
   "outputs": [],
   "source": [
    "def plot_variance(pca, width=8, dpi=100):\n",
    "    # Create figure\n",
    "    fig_data_task3, axs_data_task3 = plt.subplots(1, 2)\n",
    "    n = pca.n_components_\n",
    "    grid = np.arange(1, n + 1)\n",
    "    # Explained variance\n",
    "    evr = pca.explained_variance_ratio_\n",
    "    axs_data_task3[0].bar(grid, evr)\n",
    "    axs_data_task3[0].set(\n",
    "        xlabel=\"Component\", title=\"% Explained Variance\", ylim=(0.0, 1.0)\n",
    "    )\n",
    "    # Cumulative Variance\n",
    "    cv = np.cumsum(evr)\n",
    "    axs_data_task3[1].plot(np.r_[0, grid], np.r_[0, cv], \"o-\")\n",
    "    axs_data_task3[1].set(\n",
    "        xlabel=\"Component\", title=\"% Cumulative Variance\", ylim=(0.0, 1.0)\n",
    "    )\n",
    "    # Set up figure\n",
    "    fig_data_task3.set(figwidth=8, dpi=100)\n",
    "    return axs_data_task3\n",
    "\n",
    "def make_mi_scores(X, y, discrete_features):\n",
    "    mi_scores = mutual_info_regression(X, y, discrete_features=discrete_features)\n",
    "    mi_scores = pd.Series(mi_scores, name=\"MI Scores\", index=X.columns)\n",
    "    mi_scores = mi_scores.sort_values(ascending=False)\n",
    "    return mi_scores"
   ]
  },
  {
   "cell_type": "code",
   "execution_count": 31,
   "id": "78f662a7-314b-4f58-9b0f-cefcdcc58dba",
   "metadata": {
    "slideshow": {
     "slide_type": "slide"
    },
    "tags": []
   },
   "outputs": [],
   "source": [
    "features = ['outside_air_temperature', 'sea_temperature', 'speed']\n",
    "\n",
    "X = data_task3.copy()\n",
    "y = X.pop('power_hvac')\n",
    "X = X.loc[:, features]\n",
    "\n",
    "# Standardize\n",
    "X_scaled = (X - X.mean(axis=0)) / X.std(axis=0)"
   ]
  },
  {
   "cell_type": "code",
   "execution_count": 32,
   "id": "aec22da9-06c6-4f58-b1d3-0d48898b29a6",
   "metadata": {
    "slideshow": {
     "slide_type": "slide"
    },
    "tags": []
   },
   "outputs": [
    {
     "data": {
      "text/html": [
       "<div>\n",
       "<style scoped>\n",
       "    .dataframe tbody tr th:only-of-type {\n",
       "        vertical-align: middle;\n",
       "    }\n",
       "\n",
       "    .dataframe tbody tr th {\n",
       "        vertical-align: top;\n",
       "    }\n",
       "\n",
       "    .dataframe thead th {\n",
       "        text-align: right;\n",
       "    }\n",
       "</style>\n",
       "<table border=\"1\" class=\"dataframe\">\n",
       "  <thead>\n",
       "    <tr style=\"text-align: right;\">\n",
       "      <th></th>\n",
       "      <th>PC1</th>\n",
       "      <th>PC2</th>\n",
       "      <th>PC3</th>\n",
       "    </tr>\n",
       "  </thead>\n",
       "  <tbody>\n",
       "    <tr>\n",
       "      <th>0</th>\n",
       "      <td>-0.904825</td>\n",
       "      <td>-0.353523</td>\n",
       "      <td>-0.013106</td>\n",
       "    </tr>\n",
       "    <tr>\n",
       "      <th>1</th>\n",
       "      <td>-0.951716</td>\n",
       "      <td>-0.297394</td>\n",
       "      <td>0.046800</td>\n",
       "    </tr>\n",
       "    <tr>\n",
       "      <th>2</th>\n",
       "      <td>-0.946151</td>\n",
       "      <td>-0.249097</td>\n",
       "      <td>0.050685</td>\n",
       "    </tr>\n",
       "    <tr>\n",
       "      <th>3</th>\n",
       "      <td>-1.023910</td>\n",
       "      <td>0.229804</td>\n",
       "      <td>0.114435</td>\n",
       "    </tr>\n",
       "    <tr>\n",
       "      <th>4</th>\n",
       "      <td>-1.053018</td>\n",
       "      <td>0.278638</td>\n",
       "      <td>0.107011</td>\n",
       "    </tr>\n",
       "  </tbody>\n",
       "</table>\n",
       "</div>"
      ],
      "text/plain": [
       "        PC1       PC2       PC3\n",
       "0 -0.904825 -0.353523 -0.013106\n",
       "1 -0.951716 -0.297394  0.046800\n",
       "2 -0.946151 -0.249097  0.050685\n",
       "3 -1.023910  0.229804  0.114435\n",
       "4 -1.053018  0.278638  0.107011"
      ]
     },
     "execution_count": 32,
     "metadata": {},
     "output_type": "execute_result"
    }
   ],
   "source": [
    "from sklearn.decomposition import PCA\n",
    "\n",
    "# Create principal components\n",
    "pca = PCA()\n",
    "X_pca = pca.fit_transform(X_scaled)\n",
    "\n",
    "# Convert to dataframe\n",
    "component_names = [f\"PC{i+1}\" for i in range(X_pca.shape[1])]\n",
    "X_pca = pd.DataFrame(X_pca, columns=component_names)\n",
    "\n",
    "X_pca.head()"
   ]
  },
  {
   "cell_type": "code",
   "execution_count": 33,
   "id": "5f1ba0dd-b4cd-446c-913a-fca28be8cbe4",
   "metadata": {
    "slideshow": {
     "slide_type": "slide"
    },
    "tags": []
   },
   "outputs": [
    {
     "data": {
      "text/html": [
       "<div>\n",
       "<style scoped>\n",
       "    .dataframe tbody tr th:only-of-type {\n",
       "        vertical-align: middle;\n",
       "    }\n",
       "\n",
       "    .dataframe tbody tr th {\n",
       "        vertical-align: top;\n",
       "    }\n",
       "\n",
       "    .dataframe thead th {\n",
       "        text-align: right;\n",
       "    }\n",
       "</style>\n",
       "<table border=\"1\" class=\"dataframe\">\n",
       "  <thead>\n",
       "    <tr style=\"text-align: right;\">\n",
       "      <th></th>\n",
       "      <th>PC1</th>\n",
       "      <th>PC2</th>\n",
       "      <th>PC3</th>\n",
       "    </tr>\n",
       "  </thead>\n",
       "  <tbody>\n",
       "    <tr>\n",
       "      <th>outside_air_temperature</th>\n",
       "      <td>-0.708643</td>\n",
       "      <td>0.030369</td>\n",
       "      <td>-0.704914</td>\n",
       "    </tr>\n",
       "    <tr>\n",
       "      <th>sea_temperature</th>\n",
       "      <td>-0.698973</td>\n",
       "      <td>-0.166496</td>\n",
       "      <td>0.695497</td>\n",
       "    </tr>\n",
       "    <tr>\n",
       "      <th>speed</th>\n",
       "      <td>0.096244</td>\n",
       "      <td>-0.985574</td>\n",
       "      <td>-0.139213</td>\n",
       "    </tr>\n",
       "  </tbody>\n",
       "</table>\n",
       "</div>"
      ],
      "text/plain": [
       "                              PC1       PC2       PC3\n",
       "outside_air_temperature -0.708643  0.030369 -0.704914\n",
       "sea_temperature         -0.698973 -0.166496  0.695497\n",
       "speed                    0.096244 -0.985574 -0.139213"
      ]
     },
     "execution_count": 33,
     "metadata": {},
     "output_type": "execute_result"
    }
   ],
   "source": [
    "loadings = pd.DataFrame(\n",
    "    pca.components_.T,  # transpose the matrix of loadings\n",
    "    columns=component_names,  # so the columns are the principal components\n",
    "    index=X.columns,  # and the rows are the original features\n",
    ")\n",
    "loadings"
   ]
  },
  {
   "cell_type": "code",
   "execution_count": 34,
   "id": "7d04260b-f190-4142-9293-850bdbf0892f",
   "metadata": {
    "slideshow": {
     "slide_type": "slide"
    },
    "tags": []
   },
   "outputs": [
    {
     "data": {
      "text/plain": [
       "array([<AxesSubplot:title={'center':'% Explained Variance'}, xlabel='Component'>,\n",
       "       <AxesSubplot:title={'center':'% Cumulative Variance'}, xlabel='Component'>],\n",
       "      dtype=object)"
      ]
     },
     "execution_count": 34,
     "metadata": {},
     "output_type": "execute_result"
    },
    {
     "data": {
      "image/png": "[encoded data removed]",
      "text/plain": [
       "<Figure size 800x400 with 2 Axes>"
      ]
     },
     "metadata": {
      "needs_background": "light"
     },
     "output_type": "display_data"
    }
   ],
   "source": [
    "# Look at explained variance\n",
    "plot_variance(pca)"
   ]
  },
  {
   "cell_type": "code",
   "execution_count": 35,
   "id": "18fcd11a-2779-4d07-92a7-e8fe73e04f22",
   "metadata": {
    "slideshow": {
     "slide_type": "slide"
    },
    "tags": []
   },
   "outputs": [
    {
     "data": {
      "text/plain": [
       "PC1    1.037205\n",
       "PC2    0.425835\n",
       "PC3    0.332192\n",
       "Name: MI Scores, dtype: float64"
      ]
     },
     "execution_count": 35,
     "metadata": {},
     "output_type": "execute_result"
    }
   ],
   "source": [
    "from sklearn.feature_selection import mutual_info_regression\n",
    "\n",
    "mi_scores = make_mi_scores(X_pca, y, discrete_features=False)\n",
    "mi_scores"
   ]
  },
  {
   "cell_type": "code",
   "execution_count": 36,
   "id": "96cb174a-1b58-4a70-af13-9d8d8ef513c0",
   "metadata": {
    "slideshow": {
     "slide_type": "slide"
    },
    "tags": []
   },
   "outputs": [],
   "source": [
    "# Adding new features to X.\n",
    "X = X.join(X_pca)"
   ]
  },
  {
   "cell_type": "code",
   "execution_count": 37,
   "id": "c982d7e5-6ea4-4573-8bdf-21327f762d6c",
   "metadata": {
    "slideshow": {
     "slide_type": "slide"
    },
    "tags": []
   },
   "outputs": [
    {
     "data": {
      "image/png": "[encoded data removed]",
      "text/plain": [
       "<Figure size 720x720 with 3 Axes>"
      ]
     },
     "metadata": {
      "needs_background": "light"
     },
     "output_type": "display_data"
    }
   ],
   "source": [
    "sns.catplot(y=\"value\", col=\"variable\", data=X_pca.melt(), kind='boxen', sharey=False, col_wrap=2,);"
   ]
  },
  {
   "cell_type": "markdown",
   "id": "61007cb8-fbad-4e26-aeef-9a7f5d60a751",
   "metadata": {},
   "source": [
    "Principal Component Analysis can also be used to see if there are any outliers. Any points disconnected from the box graphs would be outliers. Since there are no disconnected points, there are no outliers."
   ]
  },
  {
   "cell_type": "code",
   "execution_count": 38,
   "id": "5f125bd0-c094-4125-9d26-35838164803a",
   "metadata": {
    "slideshow": {
     "slide_type": "skip"
    },
    "tags": []
   },
   "outputs": [
    {
     "data": {
      "text/html": [
       "<div>\n",
       "<style scoped>\n",
       "    .dataframe tbody tr th:only-of-type {\n",
       "        vertical-align: middle;\n",
       "    }\n",
       "\n",
       "    .dataframe tbody tr th {\n",
       "        vertical-align: top;\n",
       "    }\n",
       "\n",
       "    .dataframe thead th {\n",
       "        text-align: right;\n",
       "    }\n",
       "</style>\n",
       "<table border=\"1\" class=\"dataframe\">\n",
       "  <thead>\n",
       "    <tr style=\"text-align: right;\">\n",
       "      <th></th>\n",
       "      <th>power_hvac</th>\n",
       "      <th>outside_air_temperature</th>\n",
       "      <th>sea_temperature</th>\n",
       "      <th>speed</th>\n",
       "    </tr>\n",
       "  </thead>\n",
       "  <tbody>\n",
       "    <tr>\n",
       "      <th>584</th>\n",
       "      <td>0.58642</td>\n",
       "      <td>-0.62854</td>\n",
       "      <td>3.96689</td>\n",
       "      <td>13.22793</td>\n",
       "    </tr>\n",
       "    <tr>\n",
       "      <th>586</th>\n",
       "      <td>0.58518</td>\n",
       "      <td>0.41705</td>\n",
       "      <td>3.26783</td>\n",
       "      <td>0.00649</td>\n",
       "    </tr>\n",
       "    <tr>\n",
       "      <th>587</th>\n",
       "      <td>0.59139</td>\n",
       "      <td>1.20987</td>\n",
       "      <td>3.19999</td>\n",
       "      <td>0.00618</td>\n",
       "    </tr>\n",
       "    <tr>\n",
       "      <th>583</th>\n",
       "      <td>0.58977</td>\n",
       "      <td>0.05595</td>\n",
       "      <td>5.47436</td>\n",
       "      <td>9.41318</td>\n",
       "    </tr>\n",
       "    <tr>\n",
       "      <th>585</th>\n",
       "      <td>0.58517</td>\n",
       "      <td>1.67668</td>\n",
       "      <td>2.99469</td>\n",
       "      <td>0.85811</td>\n",
       "    </tr>\n",
       "    <tr>\n",
       "      <th>...</th>\n",
       "      <td>...</td>\n",
       "      <td>...</td>\n",
       "      <td>...</td>\n",
       "      <td>...</td>\n",
       "    </tr>\n",
       "    <tr>\n",
       "      <th>306</th>\n",
       "      <td>1.77760</td>\n",
       "      <td>30.42368</td>\n",
       "      <td>27.55540</td>\n",
       "      <td>0.01954</td>\n",
       "    </tr>\n",
       "    <tr>\n",
       "      <th>878</th>\n",
       "      <td>2.30827</td>\n",
       "      <td>31.08241</td>\n",
       "      <td>26.94712</td>\n",
       "      <td>0.03310</td>\n",
       "    </tr>\n",
       "    <tr>\n",
       "      <th>281</th>\n",
       "      <td>1.99822</td>\n",
       "      <td>30.47277</td>\n",
       "      <td>27.57555</td>\n",
       "      <td>0.00913</td>\n",
       "    </tr>\n",
       "    <tr>\n",
       "      <th>304</th>\n",
       "      <td>1.71958</td>\n",
       "      <td>30.66401</td>\n",
       "      <td>27.51930</td>\n",
       "      <td>0.02350</td>\n",
       "    </tr>\n",
       "    <tr>\n",
       "      <th>305</th>\n",
       "      <td>1.73275</td>\n",
       "      <td>30.82817</td>\n",
       "      <td>27.54483</td>\n",
       "      <td>0.01829</td>\n",
       "    </tr>\n",
       "  </tbody>\n",
       "</table>\n",
       "<p>1717 rows × 4 columns</p>\n",
       "</div>"
      ],
      "text/plain": [
       "     power_hvac  outside_air_temperature  sea_temperature     speed\n",
       "584     0.58642                 -0.62854          3.96689  13.22793\n",
       "586     0.58518                  0.41705          3.26783   0.00649\n",
       "587     0.59139                  1.20987          3.19999   0.00618\n",
       "583     0.58977                  0.05595          5.47436   9.41318\n",
       "585     0.58517                  1.67668          2.99469   0.85811\n",
       "..          ...                      ...              ...       ...\n",
       "306     1.77760                 30.42368         27.55540   0.01954\n",
       "878     2.30827                 31.08241         26.94712   0.03310\n",
       "281     1.99822                 30.47277         27.57555   0.00913\n",
       "304     1.71958                 30.66401         27.51930   0.02350\n",
       "305     1.73275                 30.82817         27.54483   0.01829\n",
       "\n",
       "[1717 rows x 4 columns]"
      ]
     },
     "execution_count": 38,
     "metadata": {},
     "output_type": "execute_result"
    }
   ],
   "source": [
    "# You can change PC1 to PC2, or PC3\n",
    "component = \"PC1\"\n",
    "\n",
    "data_task3 = data_task3.reset_index(drop=True)\n",
    "idx = X_pca[component].sort_values(ascending=False).index\n",
    "data_task3.loc[idx, [\"power_hvac\"] + features]"
   ]
  },
  {
   "cell_type": "code",
   "execution_count": 39,
   "id": "8e4b12eb-025b-4101-87cb-44b260a322ef",
   "metadata": {
    "slideshow": {
     "slide_type": "skip"
    },
    "tags": []
   },
   "outputs": [
    {
     "data": {
      "text/html": [
       "<div>\n",
       "<style scoped>\n",
       "    .dataframe tbody tr th:only-of-type {\n",
       "        vertical-align: middle;\n",
       "    }\n",
       "\n",
       "    .dataframe tbody tr th {\n",
       "        vertical-align: top;\n",
       "    }\n",
       "\n",
       "    .dataframe thead th {\n",
       "        text-align: right;\n",
       "    }\n",
       "</style>\n",
       "<table border=\"1\" class=\"dataframe\">\n",
       "  <thead>\n",
       "    <tr style=\"text-align: right;\">\n",
       "      <th></th>\n",
       "      <th>power_hvac</th>\n",
       "      <th>outside_air_temperature</th>\n",
       "      <th>sea_temperature</th>\n",
       "      <th>speed</th>\n",
       "    </tr>\n",
       "  </thead>\n",
       "  <tbody>\n",
       "    <tr>\n",
       "      <th>784</th>\n",
       "      <td>0.48282</td>\n",
       "      <td>13.17521</td>\n",
       "      <td>3.54351</td>\n",
       "      <td>0.00941</td>\n",
       "    </tr>\n",
       "    <tr>\n",
       "      <th>785</th>\n",
       "      <td>0.50625</td>\n",
       "      <td>11.45654</td>\n",
       "      <td>3.33757</td>\n",
       "      <td>0.00965</td>\n",
       "    </tr>\n",
       "    <tr>\n",
       "      <th>783</th>\n",
       "      <td>0.48555</td>\n",
       "      <td>12.48115</td>\n",
       "      <td>3.57398</td>\n",
       "      <td>0.00906</td>\n",
       "    </tr>\n",
       "    <tr>\n",
       "      <th>1073</th>\n",
       "      <td>0.53882</td>\n",
       "      <td>11.88534</td>\n",
       "      <td>3.79661</td>\n",
       "      <td>0.01635</td>\n",
       "    </tr>\n",
       "    <tr>\n",
       "      <th>782</th>\n",
       "      <td>0.48518</td>\n",
       "      <td>10.98957</td>\n",
       "      <td>3.64454</td>\n",
       "      <td>0.01518</td>\n",
       "    </tr>\n",
       "    <tr>\n",
       "      <th>...</th>\n",
       "      <td>...</td>\n",
       "      <td>...</td>\n",
       "      <td>...</td>\n",
       "      <td>...</td>\n",
       "    </tr>\n",
       "    <tr>\n",
       "      <th>538</th>\n",
       "      <td>1.94416</td>\n",
       "      <td>26.94538</td>\n",
       "      <td>26.49010</td>\n",
       "      <td>22.58069</td>\n",
       "    </tr>\n",
       "    <tr>\n",
       "      <th>537</th>\n",
       "      <td>1.81838</td>\n",
       "      <td>26.97145</td>\n",
       "      <td>26.32693</td>\n",
       "      <td>22.76536</td>\n",
       "    </tr>\n",
       "    <tr>\n",
       "      <th>1160</th>\n",
       "      <td>1.87056</td>\n",
       "      <td>25.89462</td>\n",
       "      <td>26.29194</td>\n",
       "      <td>22.75600</td>\n",
       "    </tr>\n",
       "    <tr>\n",
       "      <th>1349</th>\n",
       "      <td>1.75782</td>\n",
       "      <td>23.16909</td>\n",
       "      <td>26.48041</td>\n",
       "      <td>22.92346</td>\n",
       "    </tr>\n",
       "    <tr>\n",
       "      <th>563</th>\n",
       "      <td>0.68411</td>\n",
       "      <td>10.83606</td>\n",
       "      <td>23.01058</td>\n",
       "      <td>23.66468</td>\n",
       "    </tr>\n",
       "  </tbody>\n",
       "</table>\n",
       "<p>1717 rows × 4 columns</p>\n",
       "</div>"
      ],
      "text/plain": [
       "      power_hvac  outside_air_temperature  sea_temperature     speed\n",
       "784      0.48282                 13.17521          3.54351   0.00941\n",
       "785      0.50625                 11.45654          3.33757   0.00965\n",
       "783      0.48555                 12.48115          3.57398   0.00906\n",
       "1073     0.53882                 11.88534          3.79661   0.01635\n",
       "782      0.48518                 10.98957          3.64454   0.01518\n",
       "...          ...                      ...              ...       ...\n",
       "538      1.94416                 26.94538         26.49010  22.58069\n",
       "537      1.81838                 26.97145         26.32693  22.76536\n",
       "1160     1.87056                 25.89462         26.29194  22.75600\n",
       "1349     1.75782                 23.16909         26.48041  22.92346\n",
       "563      0.68411                 10.83606         23.01058  23.66468\n",
       "\n",
       "[1717 rows x 4 columns]"
      ]
     },
     "execution_count": 39,
     "metadata": {},
     "output_type": "execute_result"
    }
   ],
   "source": [
    "component = 'PC2'\n",
    "\n",
    "idx_pc2 = X_pca[component].sort_values(ascending=False).index\n",
    "data_task3.loc[idx_pc2, [\"power_hvac\"] + features]"
   ]
  },
  {
   "cell_type": "code",
   "execution_count": 40,
   "id": "c89e2039-11a1-4487-b34a-e83ba5500c02",
   "metadata": {
    "slideshow": {
     "slide_type": "skip"
    },
    "tags": []
   },
   "outputs": [
    {
     "data": {
      "text/html": [
       "<div>\n",
       "<style scoped>\n",
       "    .dataframe tbody tr th:only-of-type {\n",
       "        vertical-align: middle;\n",
       "    }\n",
       "\n",
       "    .dataframe tbody tr th {\n",
       "        vertical-align: top;\n",
       "    }\n",
       "\n",
       "    .dataframe thead th {\n",
       "        text-align: right;\n",
       "    }\n",
       "</style>\n",
       "<table border=\"1\" class=\"dataframe\">\n",
       "  <thead>\n",
       "    <tr style=\"text-align: right;\">\n",
       "      <th></th>\n",
       "      <th>power_hvac</th>\n",
       "      <th>outside_air_temperature</th>\n",
       "      <th>sea_temperature</th>\n",
       "      <th>speed</th>\n",
       "    </tr>\n",
       "  </thead>\n",
       "  <tbody>\n",
       "    <tr>\n",
       "      <th>466</th>\n",
       "      <td>0.55795</td>\n",
       "      <td>9.15243</td>\n",
       "      <td>19.39675</td>\n",
       "      <td>0.01083</td>\n",
       "    </tr>\n",
       "    <tr>\n",
       "      <th>465</th>\n",
       "      <td>0.55736</td>\n",
       "      <td>9.26486</td>\n",
       "      <td>19.43548</td>\n",
       "      <td>0.00640</td>\n",
       "    </tr>\n",
       "    <tr>\n",
       "      <th>463</th>\n",
       "      <td>0.55553</td>\n",
       "      <td>9.37702</td>\n",
       "      <td>19.47662</td>\n",
       "      <td>0.01179</td>\n",
       "    </tr>\n",
       "    <tr>\n",
       "      <th>153</th>\n",
       "      <td>0.55047</td>\n",
       "      <td>12.38233</td>\n",
       "      <td>25.72100</td>\n",
       "      <td>20.52482</td>\n",
       "    </tr>\n",
       "    <tr>\n",
       "      <th>464</th>\n",
       "      <td>0.55088</td>\n",
       "      <td>9.62176</td>\n",
       "      <td>19.44370</td>\n",
       "      <td>0.00416</td>\n",
       "    </tr>\n",
       "    <tr>\n",
       "      <th>...</th>\n",
       "      <td>...</td>\n",
       "      <td>...</td>\n",
       "      <td>...</td>\n",
       "      <td>...</td>\n",
       "    </tr>\n",
       "    <tr>\n",
       "      <th>1153</th>\n",
       "      <td>1.84009</td>\n",
       "      <td>25.50866</td>\n",
       "      <td>18.97032</td>\n",
       "      <td>17.99733</td>\n",
       "    </tr>\n",
       "    <tr>\n",
       "      <th>1145</th>\n",
       "      <td>1.83654</td>\n",
       "      <td>29.35806</td>\n",
       "      <td>19.71772</td>\n",
       "      <td>0.00682</td>\n",
       "    </tr>\n",
       "    <tr>\n",
       "      <th>786</th>\n",
       "      <td>0.52097</td>\n",
       "      <td>11.00284</td>\n",
       "      <td>3.14166</td>\n",
       "      <td>11.91709</td>\n",
       "    </tr>\n",
       "    <tr>\n",
       "      <th>1289</th>\n",
       "      <td>0.93017</td>\n",
       "      <td>17.23348</td>\n",
       "      <td>8.92049</td>\n",
       "      <td>9.43260</td>\n",
       "    </tr>\n",
       "    <tr>\n",
       "      <th>1074</th>\n",
       "      <td>0.56371</td>\n",
       "      <td>12.36069</td>\n",
       "      <td>4.14767</td>\n",
       "      <td>12.65512</td>\n",
       "    </tr>\n",
       "  </tbody>\n",
       "</table>\n",
       "<p>1717 rows × 4 columns</p>\n",
       "</div>"
      ],
      "text/plain": [
       "      power_hvac  outside_air_temperature  sea_temperature     speed\n",
       "466      0.55795                  9.15243         19.39675   0.01083\n",
       "465      0.55736                  9.26486         19.43548   0.00640\n",
       "463      0.55553                  9.37702         19.47662   0.01179\n",
       "153      0.55047                 12.38233         25.72100  20.52482\n",
       "464      0.55088                  9.62176         19.44370   0.00416\n",
       "...          ...                      ...              ...       ...\n",
       "1153     1.84009                 25.50866         18.97032  17.99733\n",
       "1145     1.83654                 29.35806         19.71772   0.00682\n",
       "786      0.52097                 11.00284          3.14166  11.91709\n",
       "1289     0.93017                 17.23348          8.92049   9.43260\n",
       "1074     0.56371                 12.36069          4.14767  12.65512\n",
       "\n",
       "[1717 rows x 4 columns]"
      ]
     },
     "execution_count": 40,
     "metadata": {},
     "output_type": "execute_result"
    }
   ],
   "source": [
    "component = 'PC3'\n",
    "\n",
    "idx_pc3 = X_pca[component].sort_values(ascending=False).index\n",
    "data_task3.loc[idx_pc3, [\"power_hvac\"] + features]"
   ]
  },
  {
   "cell_type": "code",
   "execution_count": 41,
   "id": "281cb5ce-14fe-475b-98d9-e7903265f6ad",
   "metadata": {
    "slideshow": {
     "slide_type": "slide"
    },
    "tags": []
   },
   "outputs": [
    {
     "data": {
      "text/html": [
       "<div>\n",
       "<style scoped>\n",
       "    .dataframe tbody tr th:only-of-type {\n",
       "        vertical-align: middle;\n",
       "    }\n",
       "\n",
       "    .dataframe tbody tr th {\n",
       "        vertical-align: top;\n",
       "    }\n",
       "\n",
       "    .dataframe thead th {\n",
       "        text-align: right;\n",
       "    }\n",
       "</style>\n",
       "<table border=\"1\" class=\"dataframe\">\n",
       "  <thead>\n",
       "    <tr style=\"text-align: right;\">\n",
       "      <th></th>\n",
       "      <th>outside_air_temperature</th>\n",
       "      <th>sea_temperature</th>\n",
       "      <th>speed</th>\n",
       "      <th>PC1</th>\n",
       "      <th>PC2</th>\n",
       "      <th>PC3</th>\n",
       "    </tr>\n",
       "  </thead>\n",
       "  <tbody>\n",
       "    <tr>\n",
       "      <th>0</th>\n",
       "      <td>25.76958</td>\n",
       "      <td>26.67483</td>\n",
       "      <td>14.55234</td>\n",
       "      <td>-0.904825</td>\n",
       "      <td>-0.353523</td>\n",
       "      <td>-0.013106</td>\n",
       "    </tr>\n",
       "    <tr>\n",
       "      <th>1</th>\n",
       "      <td>25.71958</td>\n",
       "      <td>27.11862</td>\n",
       "      <td>13.99801</td>\n",
       "      <td>-0.951716</td>\n",
       "      <td>-0.297394</td>\n",
       "      <td>0.046800</td>\n",
       "    </tr>\n",
       "    <tr>\n",
       "      <th>2</th>\n",
       "      <td>25.68384</td>\n",
       "      <td>27.05570</td>\n",
       "      <td>13.61092</td>\n",
       "      <td>-0.946151</td>\n",
       "      <td>-0.249097</td>\n",
       "      <td>0.050685</td>\n",
       "    </tr>\n",
       "    <tr>\n",
       "      <th>3</th>\n",
       "      <td>25.85318</td>\n",
       "      <td>27.18492</td>\n",
       "      <td>9.64000</td>\n",
       "      <td>-1.023910</td>\n",
       "      <td>0.229804</td>\n",
       "      <td>0.114435</td>\n",
       "    </tr>\n",
       "    <tr>\n",
       "      <th>4</th>\n",
       "      <td>26.04058</td>\n",
       "      <td>27.23300</td>\n",
       "      <td>9.23427</td>\n",
       "      <td>-1.053018</td>\n",
       "      <td>0.278638</td>\n",
       "      <td>0.107011</td>\n",
       "    </tr>\n",
       "    <tr>\n",
       "      <th>...</th>\n",
       "      <td>...</td>\n",
       "      <td>...</td>\n",
       "      <td>...</td>\n",
       "      <td>...</td>\n",
       "      <td>...</td>\n",
       "      <td>...</td>\n",
       "    </tr>\n",
       "    <tr>\n",
       "      <th>1712</th>\n",
       "      <td>16.18405</td>\n",
       "      <td>20.01794</td>\n",
       "      <td>19.56097</td>\n",
       "      <td>0.828073</td>\n",
       "      <td>-0.840512</td>\n",
       "      <td>0.207946</td>\n",
       "    </tr>\n",
       "    <tr>\n",
       "      <th>1713</th>\n",
       "      <td>16.48511</td>\n",
       "      <td>20.65828</td>\n",
       "      <td>19.50237</td>\n",
       "      <td>0.730600</td>\n",
       "      <td>-0.847713</td>\n",
       "      <td>0.243309</td>\n",
       "    </tr>\n",
       "    <tr>\n",
       "      <th>1714</th>\n",
       "      <td>16.73961</td>\n",
       "      <td>20.54717</td>\n",
       "      <td>18.85918</td>\n",
       "      <td>0.708063</td>\n",
       "      <td>-0.765912</td>\n",
       "      <td>0.216809</td>\n",
       "    </tr>\n",
       "    <tr>\n",
       "      <th>1715</th>\n",
       "      <td>16.87538</td>\n",
       "      <td>20.32942</td>\n",
       "      <td>18.82308</td>\n",
       "      <td>0.715923</td>\n",
       "      <td>-0.755617</td>\n",
       "      <td>0.181249</td>\n",
       "    </tr>\n",
       "    <tr>\n",
       "      <th>1716</th>\n",
       "      <td>16.97450</td>\n",
       "      <td>20.22148</td>\n",
       "      <td>18.77442</td>\n",
       "      <td>0.716164</td>\n",
       "      <td>-0.746644</td>\n",
       "      <td>0.160876</td>\n",
       "    </tr>\n",
       "  </tbody>\n",
       "</table>\n",
       "<p>1717 rows × 6 columns</p>\n",
       "</div>"
      ],
      "text/plain": [
       "      outside_air_temperature  sea_temperature     speed       PC1       PC2  \\\n",
       "0                    25.76958         26.67483  14.55234 -0.904825 -0.353523   \n",
       "1                    25.71958         27.11862  13.99801 -0.951716 -0.297394   \n",
       "2                    25.68384         27.05570  13.61092 -0.946151 -0.249097   \n",
       "3                    25.85318         27.18492   9.64000 -1.023910  0.229804   \n",
       "4                    26.04058         27.23300   9.23427 -1.053018  0.278638   \n",
       "...                       ...              ...       ...       ...       ...   \n",
       "1712                 16.18405         20.01794  19.56097  0.828073 -0.840512   \n",
       "1713                 16.48511         20.65828  19.50237  0.730600 -0.847713   \n",
       "1714                 16.73961         20.54717  18.85918  0.708063 -0.765912   \n",
       "1715                 16.87538         20.32942  18.82308  0.715923 -0.755617   \n",
       "1716                 16.97450         20.22148  18.77442  0.716164 -0.746644   \n",
       "\n",
       "           PC3  \n",
       "0    -0.013106  \n",
       "1     0.046800  \n",
       "2     0.050685  \n",
       "3     0.114435  \n",
       "4     0.107011  \n",
       "...        ...  \n",
       "1712  0.207946  \n",
       "1713  0.243309  \n",
       "1714  0.216809  \n",
       "1715  0.181249  \n",
       "1716  0.160876  \n",
       "\n",
       "[1717 rows x 6 columns]"
      ]
     },
     "execution_count": 41,
     "metadata": {},
     "output_type": "execute_result"
    }
   ],
   "source": [
    "X"
   ]
  },
  {
   "cell_type": "code",
   "execution_count": 42,
   "id": "0b0a9ddd-c455-48ad-ad99-733f98055eb1",
   "metadata": {
    "slideshow": {
     "slide_type": "slide"
    },
    "tags": []
   },
   "outputs": [
    {
     "data": {
      "text/plain": [
       "outside_air_temperature    0\n",
       "sea_temperature            0\n",
       "speed                      0\n",
       "PC1                        0\n",
       "PC2                        0\n",
       "PC3                        0\n",
       "dtype: int64"
      ]
     },
     "execution_count": 42,
     "metadata": {},
     "output_type": "execute_result"
    }
   ],
   "source": [
    "X.isnull().sum()"
   ]
  },
  {
   "cell_type": "code",
   "execution_count": 43,
   "id": "b885a8e0-63ee-4a2f-b990-f63eb4053c3f",
   "metadata": {
    "slideshow": {
     "slide_type": "slide"
    },
    "tags": []
   },
   "outputs": [],
   "source": [
    "# Set up training and testing sets\n",
    "x_train_tsk3, x_test_tsk3, y_train_tsk3, y_test_tsk3 = train_test_split(X, y, train_size = 0.8)"
   ]
  },
  {
   "cell_type": "code",
   "execution_count": 44,
   "id": "4432ae7e-243e-430d-bbb9-65652d690933",
   "metadata": {
    "slideshow": {
     "slide_type": "slide"
    },
    "tags": []
   },
   "outputs": [
    {
     "name": "stdout",
     "output_type": "stream",
     "text": [
      "alpha: 0.003358\n"
     ]
    }
   ],
   "source": [
    "# Let's use LassoCV to find the optimal alpha.\n",
    "from sklearn.linear_model import LassoCV\n",
    "from sklearn.model_selection import RepeatedKFold\n",
    "\n",
    "# define model evaluation method\n",
    "cv = RepeatedKFold(n_splits=10, n_repeats=3)\n",
    "# define model\n",
    "model_tsk3 = LassoCV(cv=cv, n_jobs=-1)\n",
    "# fit model\n",
    "model_tsk3.fit(x_train_tsk3, y_train_tsk3)\n",
    "# summarize chosen configuration\n",
    "print('alpha: %f' % model_tsk3.alpha_)"
   ]
  },
  {
   "cell_type": "code",
   "execution_count": 45,
   "id": "6d7afc49-f1c7-4b77-bb61-89bdee5c559f",
   "metadata": {
    "slideshow": {
     "slide_type": "slide"
    },
    "tags": []
   },
   "outputs": [
    {
     "name": "stdout",
     "output_type": "stream",
     "text": [
      "alpha: 0.995000\n"
     ]
    }
   ],
   "source": [
    "# Let's do the same using RidgeCV.\n",
    "from numpy import arange\n",
    "from sklearn.linear_model import RidgeCV\n",
    "\n",
    "# define model evaluation method\n",
    "cv_ridge = RepeatedKFold(n_splits=10, n_repeats=3)\n",
    "# define model\n",
    "model_ridge = RidgeCV(alphas=arange(0.005, 1, 0.01), cv=cv, scoring='neg_root_mean_squared_error')\n",
    "# fit model\n",
    "model_ridge.fit(x_train_tsk3, y_train_tsk3)\n",
    "# summarize chosen configuration\n",
    "print('alpha: %f' % model_ridge.alpha_)"
   ]
  },
  {
   "cell_type": "code",
   "execution_count": 46,
   "id": "045fc8ee-6c77-4029-ac6e-308f0003942a",
   "metadata": {
    "slideshow": {
     "slide_type": "slide"
    },
    "tags": []
   },
   "outputs": [
    {
     "name": "stdout",
     "output_type": "stream",
     "text": [
      "alpha: 0.006717\n",
      "l1_ratio_: 0.500000\n"
     ]
    }
   ],
   "source": [
    "# We also do it for Elastic Net.\n",
    "from sklearn.linear_model import ElasticNetCV\n",
    "\n",
    "# define model evaluation method\n",
    "cv_en = RepeatedKFold(n_splits=10, n_repeats=3)\n",
    "# define model\n",
    "model_en = ElasticNetCV(cv=cv_en, n_jobs=-1)\n",
    "# fit model\n",
    "model_en.fit(x_train_tsk3, y_train_tsk3)\n",
    "# summarize chosen configuration\n",
    "print('alpha: %f' % model_en.alpha_)\n",
    "print('l1_ratio_: %f' % model_en.l1_ratio_)"
   ]
  },
  {
   "cell_type": "code",
   "execution_count": 47,
   "id": "684febfd-b68d-44c7-80e1-a906af8d1ae6",
   "metadata": {
    "slideshow": {
     "slide_type": "slide"
    },
    "tags": []
   },
   "outputs": [
    {
     "name": "stdout",
     "output_type": "stream",
     "text": [
      "Lasso: 0.270873 (0.028482) (RMSE score: 0.275266)\n",
      "Ridge: 0.270876 (0.028510) (RMSE score: 0.275139)\n",
      "Elastic Net: 0.270874 (0.028479) (RMSE score: 0.275274)\n"
     ]
    }
   ],
   "source": [
    "from sklearn.linear_model import Lasso\n",
    "from sklearn.linear_model import Ridge\n",
    "from sklearn.linear_model import ElasticNet\n",
    "from sklearn.model_selection import KFold\n",
    "\n",
    "models = [\n",
    "            ('Lasso', Lasso(alpha=model_tsk3.alpha_)), \n",
    "            ('Ridge', Ridge(alpha=model_ridge.alpha_)), \n",
    "            ('Elastic Net', ElasticNet(alpha=model_en.alpha_, l1_ratio=model_en.l1_ratio_))\n",
    "        ]\n",
    "\n",
    "# evaluate each model in turn\n",
    "results = []\n",
    "names = []\n",
    "for name, model in models:\n",
    "    kfold = KFold(n_splits=10)\n",
    "    cv_results = -1 * cross_val_score(model, x_train_tsk3, y_train_tsk3, cv=kfold, scoring='neg_root_mean_squared_error')\n",
    "    clf = model.fit(x_train_tsk3, y_train_tsk3)\n",
    "    y_pred_tsk3 = clf.predict(x_test_tsk3)\n",
    "    results.append(cv_results)\n",
    "    names.append(name)\n",
    "    rmse_y_tsk3 = mean_squared_error(y_test_tsk3, y_pred_tsk3, squared = False)\n",
    "    msg = \"%s: %f (%f) (RMSE score: %f)\" % (name, cv_results.mean(), cv_results.std(), rmse_y_tsk3)\n",
    "    print(msg)"
   ]
  },
  {
   "cell_type": "markdown",
   "id": "d70e0463-d934-415f-8bf4-a87d67ee3661",
   "metadata": {
    "slideshow": {
     "slide_type": "slide"
    },
    "tags": []
   },
   "source": [
    "The last part of this task is to perform regular linear regression using the top two principal components."
   ]
  },
  {
   "cell_type": "code",
   "execution_count": 48,
   "id": "c3c3b14a-2bb0-432e-ab1f-acea2953d07a",
   "metadata": {
    "slideshow": {
     "slide_type": "subslide"
    },
    "tags": []
   },
   "outputs": [],
   "source": [
    "X_PC1_PC2 = X.drop('PC3', axis=1)"
   ]
  },
  {
   "cell_type": "code",
   "execution_count": 49,
   "id": "2fc9f9d2-d15f-483f-9e7b-73845f5a87b1",
   "metadata": {
    "slideshow": {
     "slide_type": "subslide"
    },
    "tags": []
   },
   "outputs": [
    {
     "name": "stdout",
     "output_type": "stream",
     "text": [
      "RMSE score:  0.26511361444285586\n"
     ]
    }
   ],
   "source": [
    "# Set up training and testing sets\n",
    "y_PC1_PC2 = y.copy()\n",
    "x_train_tsk3_PC1PC2, x_test_tsk3_PC1PC2, y_train_tsk3_PC1PC2, y_test_tsk3_PC1PC2 = train_test_split(X_PC1_PC2, y_PC1_PC2, train_size = 0.8)\n",
    "\n",
    "linear_reg_PC1_PC2 = LinearRegression()\n",
    "model_PC1_PC2 = linear_reg_PC1_PC2.fit(x_test_tsk3_PC1PC2, y_test_tsk3_PC1PC2)\n",
    "y_test_preds_PC1PC2 = model_PC1_PC2.predict(x_test_tsk3_PC1PC2)\n",
    "\n",
    "rmse_y_PC1_PC2 = mean_squared_error(y_test_tsk3_PC1PC2, y_test_preds_PC1PC2, squared = False)\n",
    "print(\"RMSE score: \", rmse_y_PC1_PC2)"
   ]
  },
  {
   "cell_type": "markdown",
   "id": "b94dc617-37ff-46f5-ac68-42b91fa181f6",
   "metadata": {
    "slideshow": {
     "slide_type": "notes"
    },
    "tags": []
   },
   "source": [
    "RMSE score of regular Linear Regression is smaller than that of Lasso, Ridge, and Elastic Net showing that regular linear regression performs better than the other three methods in this case."
   ]
  }
 ],
 "metadata": {
  "kernelspec": {
   "display_name": "Python 3 (ipykernel)",
   "language": "python",
   "name": "python3"
  },
  "language_info": {
   "codemirror_mode": {
    "name": "ipython",
    "version": 3
   },
   "file_extension": ".py",
   "mimetype": "text/x-python",
   "name": "python",
   "nbconvert_exporter": "python",
   "pygments_lexer": "ipython3",
   "version": "3.10.6"
  }
 },
 "nbformat": 4,
 "nbformat_minor": 5
}
